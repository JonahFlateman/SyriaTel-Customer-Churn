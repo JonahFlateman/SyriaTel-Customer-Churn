{
 "cells": [
  {
   "cell_type": "markdown",
   "metadata": {},
   "source": [
    "## Final Project Submission\n",
    "\n",
    "Please fill out:\n",
    "* Student name: \n",
    "* Student pace: self paced / part time / full time\n",
    "* Scheduled project review date/time: \n",
    "* Instructor name: \n",
    "* Blog post URL:\n"
   ]
  },
  {
   "cell_type": "markdown",
   "metadata": {},
   "source": [
    "# Importing, Cleaning, and EDA"
   ]
  },
  {
   "cell_type": "markdown",
   "metadata": {},
   "source": [
    "Listed below are the libraries we will be using throughout the EDA and modeling processes."
   ]
  },
  {
   "cell_type": "code",
   "execution_count": 141,
   "metadata": {},
   "outputs": [],
   "source": [
    "#Importing libraries to be used\n",
    "import warnings\n",
    "warnings.filterwarnings('ignore')\n",
    "import pandas as pd\n",
    "import numpy as np\n",
    "import matplotlib.pyplot as plt\n",
    "%matplotlib inline\n",
    "import seaborn as sns\n",
    "from sklearn.preprocessing import OneHotEncoder, StandardScaler, RobustScaler, PolynomialFeatures\n",
    "from sklearn.model_selection import train_test_split, GridSearchCV\n",
    "from sklearn.linear_model import LogisticRegression\n",
    "from sklearn.metrics import precision_score, recall_score, accuracy_score, f1_score, confusion_matrix, roc_curve, auc, classification_report, roc_auc_score, plot_confusion_matrix, make_scorer\n",
    "from sklearn.neighbors import KNeighborsClassifier\n",
    "from sklearn.tree import DecisionTreeClassifier\n",
    "import six\n",
    "import sys\n",
    "sys.modules['sklearn.externals.six'] = six\n",
    "import sklearn.neighbors._base\n",
    "sys.modules['sklearn.neighbors.base'] = sklearn.neighbors._base\n",
    "from sklearn.utils import _safe_indexing\n",
    "sys.modules['sklearn.utils.safe_indexing'] = sklearn.utils._safe_indexing\n",
    "from imblearn.over_sampling import SMOTE, ADASYN\n",
    "from sklearn.ensemble import BaggingClassifier, RandomForestClassifier, AdaBoostClassifier, GradientBoostingClassifier\n",
    "from sklearn.pipeline import Pipeline\n",
    "from imblearn.pipeline import make_pipeline\n",
    "from sklearn.compose import ColumnTransformer\n",
    "from sklearn.impute import SimpleImputer\n",
    "from sklearn.svm import SVC\n",
    "from sklearn import decomposition"
   ]
  },
  {
   "cell_type": "code",
   "execution_count": 2,
   "metadata": {},
   "outputs": [],
   "source": [
    "#Importing CSV file as DataFrame\n",
    "df = pd.read_csv('bigml_59c28831336c6604c800002a.csv')"
   ]
  },
  {
   "cell_type": "code",
   "execution_count": 3,
   "metadata": {},
   "outputs": [
    {
     "data": {
      "text/html": [
       "<div>\n",
       "<style scoped>\n",
       "    .dataframe tbody tr th:only-of-type {\n",
       "        vertical-align: middle;\n",
       "    }\n",
       "\n",
       "    .dataframe tbody tr th {\n",
       "        vertical-align: top;\n",
       "    }\n",
       "\n",
       "    .dataframe thead th {\n",
       "        text-align: right;\n",
       "    }\n",
       "</style>\n",
       "<table border=\"1\" class=\"dataframe\">\n",
       "  <thead>\n",
       "    <tr style=\"text-align: right;\">\n",
       "      <th></th>\n",
       "      <th>state</th>\n",
       "      <th>account length</th>\n",
       "      <th>area code</th>\n",
       "      <th>phone number</th>\n",
       "      <th>international plan</th>\n",
       "      <th>voice mail plan</th>\n",
       "      <th>number vmail messages</th>\n",
       "      <th>total day minutes</th>\n",
       "      <th>total day calls</th>\n",
       "      <th>total day charge</th>\n",
       "      <th>...</th>\n",
       "      <th>total eve calls</th>\n",
       "      <th>total eve charge</th>\n",
       "      <th>total night minutes</th>\n",
       "      <th>total night calls</th>\n",
       "      <th>total night charge</th>\n",
       "      <th>total intl minutes</th>\n",
       "      <th>total intl calls</th>\n",
       "      <th>total intl charge</th>\n",
       "      <th>customer service calls</th>\n",
       "      <th>churn</th>\n",
       "    </tr>\n",
       "  </thead>\n",
       "  <tbody>\n",
       "    <tr>\n",
       "      <th>0</th>\n",
       "      <td>KS</td>\n",
       "      <td>128</td>\n",
       "      <td>415</td>\n",
       "      <td>382-4657</td>\n",
       "      <td>no</td>\n",
       "      <td>yes</td>\n",
       "      <td>25</td>\n",
       "      <td>265.1</td>\n",
       "      <td>110</td>\n",
       "      <td>45.07</td>\n",
       "      <td>...</td>\n",
       "      <td>99</td>\n",
       "      <td>16.78</td>\n",
       "      <td>244.7</td>\n",
       "      <td>91</td>\n",
       "      <td>11.01</td>\n",
       "      <td>10.0</td>\n",
       "      <td>3</td>\n",
       "      <td>2.70</td>\n",
       "      <td>1</td>\n",
       "      <td>False</td>\n",
       "    </tr>\n",
       "    <tr>\n",
       "      <th>1</th>\n",
       "      <td>OH</td>\n",
       "      <td>107</td>\n",
       "      <td>415</td>\n",
       "      <td>371-7191</td>\n",
       "      <td>no</td>\n",
       "      <td>yes</td>\n",
       "      <td>26</td>\n",
       "      <td>161.6</td>\n",
       "      <td>123</td>\n",
       "      <td>27.47</td>\n",
       "      <td>...</td>\n",
       "      <td>103</td>\n",
       "      <td>16.62</td>\n",
       "      <td>254.4</td>\n",
       "      <td>103</td>\n",
       "      <td>11.45</td>\n",
       "      <td>13.7</td>\n",
       "      <td>3</td>\n",
       "      <td>3.70</td>\n",
       "      <td>1</td>\n",
       "      <td>False</td>\n",
       "    </tr>\n",
       "    <tr>\n",
       "      <th>2</th>\n",
       "      <td>NJ</td>\n",
       "      <td>137</td>\n",
       "      <td>415</td>\n",
       "      <td>358-1921</td>\n",
       "      <td>no</td>\n",
       "      <td>no</td>\n",
       "      <td>0</td>\n",
       "      <td>243.4</td>\n",
       "      <td>114</td>\n",
       "      <td>41.38</td>\n",
       "      <td>...</td>\n",
       "      <td>110</td>\n",
       "      <td>10.30</td>\n",
       "      <td>162.6</td>\n",
       "      <td>104</td>\n",
       "      <td>7.32</td>\n",
       "      <td>12.2</td>\n",
       "      <td>5</td>\n",
       "      <td>3.29</td>\n",
       "      <td>0</td>\n",
       "      <td>False</td>\n",
       "    </tr>\n",
       "    <tr>\n",
       "      <th>3</th>\n",
       "      <td>OH</td>\n",
       "      <td>84</td>\n",
       "      <td>408</td>\n",
       "      <td>375-9999</td>\n",
       "      <td>yes</td>\n",
       "      <td>no</td>\n",
       "      <td>0</td>\n",
       "      <td>299.4</td>\n",
       "      <td>71</td>\n",
       "      <td>50.90</td>\n",
       "      <td>...</td>\n",
       "      <td>88</td>\n",
       "      <td>5.26</td>\n",
       "      <td>196.9</td>\n",
       "      <td>89</td>\n",
       "      <td>8.86</td>\n",
       "      <td>6.6</td>\n",
       "      <td>7</td>\n",
       "      <td>1.78</td>\n",
       "      <td>2</td>\n",
       "      <td>False</td>\n",
       "    </tr>\n",
       "    <tr>\n",
       "      <th>4</th>\n",
       "      <td>OK</td>\n",
       "      <td>75</td>\n",
       "      <td>415</td>\n",
       "      <td>330-6626</td>\n",
       "      <td>yes</td>\n",
       "      <td>no</td>\n",
       "      <td>0</td>\n",
       "      <td>166.7</td>\n",
       "      <td>113</td>\n",
       "      <td>28.34</td>\n",
       "      <td>...</td>\n",
       "      <td>122</td>\n",
       "      <td>12.61</td>\n",
       "      <td>186.9</td>\n",
       "      <td>121</td>\n",
       "      <td>8.41</td>\n",
       "      <td>10.1</td>\n",
       "      <td>3</td>\n",
       "      <td>2.73</td>\n",
       "      <td>3</td>\n",
       "      <td>False</td>\n",
       "    </tr>\n",
       "  </tbody>\n",
       "</table>\n",
       "<p>5 rows × 21 columns</p>\n",
       "</div>"
      ],
      "text/plain": [
       "  state  account length  area code phone number international plan  \\\n",
       "0    KS             128        415     382-4657                 no   \n",
       "1    OH             107        415     371-7191                 no   \n",
       "2    NJ             137        415     358-1921                 no   \n",
       "3    OH              84        408     375-9999                yes   \n",
       "4    OK              75        415     330-6626                yes   \n",
       "\n",
       "  voice mail plan  number vmail messages  total day minutes  total day calls  \\\n",
       "0             yes                     25              265.1              110   \n",
       "1             yes                     26              161.6              123   \n",
       "2              no                      0              243.4              114   \n",
       "3              no                      0              299.4               71   \n",
       "4              no                      0              166.7              113   \n",
       "\n",
       "   total day charge  ...  total eve calls  total eve charge  \\\n",
       "0             45.07  ...               99             16.78   \n",
       "1             27.47  ...              103             16.62   \n",
       "2             41.38  ...              110             10.30   \n",
       "3             50.90  ...               88              5.26   \n",
       "4             28.34  ...              122             12.61   \n",
       "\n",
       "   total night minutes  total night calls  total night charge  \\\n",
       "0                244.7                 91               11.01   \n",
       "1                254.4                103               11.45   \n",
       "2                162.6                104                7.32   \n",
       "3                196.9                 89                8.86   \n",
       "4                186.9                121                8.41   \n",
       "\n",
       "   total intl minutes  total intl calls  total intl charge  \\\n",
       "0                10.0                 3               2.70   \n",
       "1                13.7                 3               3.70   \n",
       "2                12.2                 5               3.29   \n",
       "3                 6.6                 7               1.78   \n",
       "4                10.1                 3               2.73   \n",
       "\n",
       "   customer service calls  churn  \n",
       "0                       1  False  \n",
       "1                       1  False  \n",
       "2                       0  False  \n",
       "3                       2  False  \n",
       "4                       3  False  \n",
       "\n",
       "[5 rows x 21 columns]"
      ]
     },
     "execution_count": 3,
     "metadata": {},
     "output_type": "execute_result"
    }
   ],
   "source": [
    "#Displaying first five rows\n",
    "df.head()"
   ]
  },
  {
   "cell_type": "code",
   "execution_count": 4,
   "metadata": {},
   "outputs": [
    {
     "name": "stdout",
     "output_type": "stream",
     "text": [
      "<class 'pandas.core.frame.DataFrame'>\n",
      "RangeIndex: 3333 entries, 0 to 3332\n",
      "Data columns (total 21 columns):\n",
      " #   Column                  Non-Null Count  Dtype  \n",
      "---  ------                  --------------  -----  \n",
      " 0   state                   3333 non-null   object \n",
      " 1   account length          3333 non-null   int64  \n",
      " 2   area code               3333 non-null   int64  \n",
      " 3   phone number            3333 non-null   object \n",
      " 4   international plan      3333 non-null   object \n",
      " 5   voice mail plan         3333 non-null   object \n",
      " 6   number vmail messages   3333 non-null   int64  \n",
      " 7   total day minutes       3333 non-null   float64\n",
      " 8   total day calls         3333 non-null   int64  \n",
      " 9   total day charge        3333 non-null   float64\n",
      " 10  total eve minutes       3333 non-null   float64\n",
      " 11  total eve calls         3333 non-null   int64  \n",
      " 12  total eve charge        3333 non-null   float64\n",
      " 13  total night minutes     3333 non-null   float64\n",
      " 14  total night calls       3333 non-null   int64  \n",
      " 15  total night charge      3333 non-null   float64\n",
      " 16  total intl minutes      3333 non-null   float64\n",
      " 17  total intl calls        3333 non-null   int64  \n",
      " 18  total intl charge       3333 non-null   float64\n",
      " 19  customer service calls  3333 non-null   int64  \n",
      " 20  churn                   3333 non-null   bool   \n",
      "dtypes: bool(1), float64(8), int64(8), object(4)\n",
      "memory usage: 524.2+ KB\n"
     ]
    }
   ],
   "source": [
    "#Column info of DataFrame\n",
    "df.info()"
   ]
  },
  {
   "cell_type": "code",
   "execution_count": 5,
   "metadata": {},
   "outputs": [
    {
     "data": {
      "text/plain": [
       "False    2850\n",
       "True      483\n",
       "Name: churn, dtype: int64"
      ]
     },
     "execution_count": 5,
     "metadata": {},
     "output_type": "execute_result"
    }
   ],
   "source": [
    "#Looking at values of churn column\n",
    "df.churn.value_counts()"
   ]
  },
  {
   "cell_type": "markdown",
   "metadata": {},
   "source": [
    "We should note the class imblanace as something to remember when modeling."
   ]
  },
  {
   "cell_type": "code",
   "execution_count": 6,
   "metadata": {},
   "outputs": [
    {
     "data": {
      "text/plain": [
       "state                     0\n",
       "account length            0\n",
       "area code                 0\n",
       "phone number              0\n",
       "international plan        0\n",
       "voice mail plan           0\n",
       "number vmail messages     0\n",
       "total day minutes         0\n",
       "total day calls           0\n",
       "total day charge          0\n",
       "total eve minutes         0\n",
       "total eve calls           0\n",
       "total eve charge          0\n",
       "total night minutes       0\n",
       "total night calls         0\n",
       "total night charge        0\n",
       "total intl minutes        0\n",
       "total intl calls          0\n",
       "total intl charge         0\n",
       "customer service calls    0\n",
       "churn                     0\n",
       "dtype: int64"
      ]
     },
     "execution_count": 6,
     "metadata": {},
     "output_type": "execute_result"
    }
   ],
   "source": [
    "#Checking for null values\n",
    "df.isna().sum()"
   ]
  },
  {
   "cell_type": "code",
   "execution_count": 7,
   "metadata": {},
   "outputs": [
    {
     "data": {
      "text/html": [
       "<div>\n",
       "<style scoped>\n",
       "    .dataframe tbody tr th:only-of-type {\n",
       "        vertical-align: middle;\n",
       "    }\n",
       "\n",
       "    .dataframe tbody tr th {\n",
       "        vertical-align: top;\n",
       "    }\n",
       "\n",
       "    .dataframe thead th {\n",
       "        text-align: right;\n",
       "    }\n",
       "</style>\n",
       "<table border=\"1\" class=\"dataframe\">\n",
       "  <thead>\n",
       "    <tr style=\"text-align: right;\">\n",
       "      <th></th>\n",
       "      <th>account length</th>\n",
       "      <th>area code</th>\n",
       "      <th>number vmail messages</th>\n",
       "      <th>total day minutes</th>\n",
       "      <th>total day calls</th>\n",
       "      <th>total day charge</th>\n",
       "      <th>total eve minutes</th>\n",
       "      <th>total eve calls</th>\n",
       "      <th>total eve charge</th>\n",
       "      <th>total night minutes</th>\n",
       "      <th>total night calls</th>\n",
       "      <th>total night charge</th>\n",
       "      <th>total intl minutes</th>\n",
       "      <th>total intl calls</th>\n",
       "      <th>total intl charge</th>\n",
       "      <th>customer service calls</th>\n",
       "    </tr>\n",
       "  </thead>\n",
       "  <tbody>\n",
       "    <tr>\n",
       "      <th>count</th>\n",
       "      <td>3333.000000</td>\n",
       "      <td>3333.000000</td>\n",
       "      <td>3333.000000</td>\n",
       "      <td>3333.000000</td>\n",
       "      <td>3333.000000</td>\n",
       "      <td>3333.000000</td>\n",
       "      <td>3333.000000</td>\n",
       "      <td>3333.000000</td>\n",
       "      <td>3333.000000</td>\n",
       "      <td>3333.000000</td>\n",
       "      <td>3333.000000</td>\n",
       "      <td>3333.000000</td>\n",
       "      <td>3333.000000</td>\n",
       "      <td>3333.000000</td>\n",
       "      <td>3333.000000</td>\n",
       "      <td>3333.000000</td>\n",
       "    </tr>\n",
       "    <tr>\n",
       "      <th>mean</th>\n",
       "      <td>101.064806</td>\n",
       "      <td>437.182418</td>\n",
       "      <td>8.099010</td>\n",
       "      <td>179.775098</td>\n",
       "      <td>100.435644</td>\n",
       "      <td>30.562307</td>\n",
       "      <td>200.980348</td>\n",
       "      <td>100.114311</td>\n",
       "      <td>17.083540</td>\n",
       "      <td>200.872037</td>\n",
       "      <td>100.107711</td>\n",
       "      <td>9.039325</td>\n",
       "      <td>10.237294</td>\n",
       "      <td>4.479448</td>\n",
       "      <td>2.764581</td>\n",
       "      <td>1.562856</td>\n",
       "    </tr>\n",
       "    <tr>\n",
       "      <th>std</th>\n",
       "      <td>39.822106</td>\n",
       "      <td>42.371290</td>\n",
       "      <td>13.688365</td>\n",
       "      <td>54.467389</td>\n",
       "      <td>20.069084</td>\n",
       "      <td>9.259435</td>\n",
       "      <td>50.713844</td>\n",
       "      <td>19.922625</td>\n",
       "      <td>4.310668</td>\n",
       "      <td>50.573847</td>\n",
       "      <td>19.568609</td>\n",
       "      <td>2.275873</td>\n",
       "      <td>2.791840</td>\n",
       "      <td>2.461214</td>\n",
       "      <td>0.753773</td>\n",
       "      <td>1.315491</td>\n",
       "    </tr>\n",
       "    <tr>\n",
       "      <th>min</th>\n",
       "      <td>1.000000</td>\n",
       "      <td>408.000000</td>\n",
       "      <td>0.000000</td>\n",
       "      <td>0.000000</td>\n",
       "      <td>0.000000</td>\n",
       "      <td>0.000000</td>\n",
       "      <td>0.000000</td>\n",
       "      <td>0.000000</td>\n",
       "      <td>0.000000</td>\n",
       "      <td>23.200000</td>\n",
       "      <td>33.000000</td>\n",
       "      <td>1.040000</td>\n",
       "      <td>0.000000</td>\n",
       "      <td>0.000000</td>\n",
       "      <td>0.000000</td>\n",
       "      <td>0.000000</td>\n",
       "    </tr>\n",
       "    <tr>\n",
       "      <th>25%</th>\n",
       "      <td>74.000000</td>\n",
       "      <td>408.000000</td>\n",
       "      <td>0.000000</td>\n",
       "      <td>143.700000</td>\n",
       "      <td>87.000000</td>\n",
       "      <td>24.430000</td>\n",
       "      <td>166.600000</td>\n",
       "      <td>87.000000</td>\n",
       "      <td>14.160000</td>\n",
       "      <td>167.000000</td>\n",
       "      <td>87.000000</td>\n",
       "      <td>7.520000</td>\n",
       "      <td>8.500000</td>\n",
       "      <td>3.000000</td>\n",
       "      <td>2.300000</td>\n",
       "      <td>1.000000</td>\n",
       "    </tr>\n",
       "    <tr>\n",
       "      <th>50%</th>\n",
       "      <td>101.000000</td>\n",
       "      <td>415.000000</td>\n",
       "      <td>0.000000</td>\n",
       "      <td>179.400000</td>\n",
       "      <td>101.000000</td>\n",
       "      <td>30.500000</td>\n",
       "      <td>201.400000</td>\n",
       "      <td>100.000000</td>\n",
       "      <td>17.120000</td>\n",
       "      <td>201.200000</td>\n",
       "      <td>100.000000</td>\n",
       "      <td>9.050000</td>\n",
       "      <td>10.300000</td>\n",
       "      <td>4.000000</td>\n",
       "      <td>2.780000</td>\n",
       "      <td>1.000000</td>\n",
       "    </tr>\n",
       "    <tr>\n",
       "      <th>75%</th>\n",
       "      <td>127.000000</td>\n",
       "      <td>510.000000</td>\n",
       "      <td>20.000000</td>\n",
       "      <td>216.400000</td>\n",
       "      <td>114.000000</td>\n",
       "      <td>36.790000</td>\n",
       "      <td>235.300000</td>\n",
       "      <td>114.000000</td>\n",
       "      <td>20.000000</td>\n",
       "      <td>235.300000</td>\n",
       "      <td>113.000000</td>\n",
       "      <td>10.590000</td>\n",
       "      <td>12.100000</td>\n",
       "      <td>6.000000</td>\n",
       "      <td>3.270000</td>\n",
       "      <td>2.000000</td>\n",
       "    </tr>\n",
       "    <tr>\n",
       "      <th>max</th>\n",
       "      <td>243.000000</td>\n",
       "      <td>510.000000</td>\n",
       "      <td>51.000000</td>\n",
       "      <td>350.800000</td>\n",
       "      <td>165.000000</td>\n",
       "      <td>59.640000</td>\n",
       "      <td>363.700000</td>\n",
       "      <td>170.000000</td>\n",
       "      <td>30.910000</td>\n",
       "      <td>395.000000</td>\n",
       "      <td>175.000000</td>\n",
       "      <td>17.770000</td>\n",
       "      <td>20.000000</td>\n",
       "      <td>20.000000</td>\n",
       "      <td>5.400000</td>\n",
       "      <td>9.000000</td>\n",
       "    </tr>\n",
       "  </tbody>\n",
       "</table>\n",
       "</div>"
      ],
      "text/plain": [
       "       account length    area code  number vmail messages  total day minutes  \\\n",
       "count     3333.000000  3333.000000            3333.000000        3333.000000   \n",
       "mean       101.064806   437.182418               8.099010         179.775098   \n",
       "std         39.822106    42.371290              13.688365          54.467389   \n",
       "min          1.000000   408.000000               0.000000           0.000000   \n",
       "25%         74.000000   408.000000               0.000000         143.700000   \n",
       "50%        101.000000   415.000000               0.000000         179.400000   \n",
       "75%        127.000000   510.000000              20.000000         216.400000   \n",
       "max        243.000000   510.000000              51.000000         350.800000   \n",
       "\n",
       "       total day calls  total day charge  total eve minutes  total eve calls  \\\n",
       "count      3333.000000       3333.000000        3333.000000      3333.000000   \n",
       "mean        100.435644         30.562307         200.980348       100.114311   \n",
       "std          20.069084          9.259435          50.713844        19.922625   \n",
       "min           0.000000          0.000000           0.000000         0.000000   \n",
       "25%          87.000000         24.430000         166.600000        87.000000   \n",
       "50%         101.000000         30.500000         201.400000       100.000000   \n",
       "75%         114.000000         36.790000         235.300000       114.000000   \n",
       "max         165.000000         59.640000         363.700000       170.000000   \n",
       "\n",
       "       total eve charge  total night minutes  total night calls  \\\n",
       "count       3333.000000          3333.000000        3333.000000   \n",
       "mean          17.083540           200.872037         100.107711   \n",
       "std            4.310668            50.573847          19.568609   \n",
       "min            0.000000            23.200000          33.000000   \n",
       "25%           14.160000           167.000000          87.000000   \n",
       "50%           17.120000           201.200000         100.000000   \n",
       "75%           20.000000           235.300000         113.000000   \n",
       "max           30.910000           395.000000         175.000000   \n",
       "\n",
       "       total night charge  total intl minutes  total intl calls  \\\n",
       "count         3333.000000         3333.000000       3333.000000   \n",
       "mean             9.039325           10.237294          4.479448   \n",
       "std              2.275873            2.791840          2.461214   \n",
       "min              1.040000            0.000000          0.000000   \n",
       "25%              7.520000            8.500000          3.000000   \n",
       "50%              9.050000           10.300000          4.000000   \n",
       "75%             10.590000           12.100000          6.000000   \n",
       "max             17.770000           20.000000         20.000000   \n",
       "\n",
       "       total intl charge  customer service calls  \n",
       "count        3333.000000             3333.000000  \n",
       "mean            2.764581                1.562856  \n",
       "std             0.753773                1.315491  \n",
       "min             0.000000                0.000000  \n",
       "25%             2.300000                1.000000  \n",
       "50%             2.780000                1.000000  \n",
       "75%             3.270000                2.000000  \n",
       "max             5.400000                9.000000  "
      ]
     },
     "execution_count": 7,
     "metadata": {},
     "output_type": "execute_result"
    }
   ],
   "source": [
    "#Checking column statistics\n",
    "df.describe()"
   ]
  },
  {
   "cell_type": "code",
   "execution_count": 8,
   "metadata": {},
   "outputs": [
    {
     "data": {
      "text/plain": [
       "105    43\n",
       "87     42\n",
       "93     40\n",
       "101    40\n",
       "90     39\n",
       "       ..\n",
       "191     1\n",
       "199     1\n",
       "215     1\n",
       "221     1\n",
       "2       1\n",
       "Name: account length, Length: 212, dtype: int64"
      ]
     },
     "execution_count": 8,
     "metadata": {},
     "output_type": "execute_result"
    }
   ],
   "source": [
    "#Looking at values for selected columns in further detail\n",
    "df['account length'].value_counts()"
   ]
  },
  {
   "cell_type": "code",
   "execution_count": 9,
   "metadata": {},
   "outputs": [
    {
     "data": {
      "text/plain": [
       "0     2411\n",
       "31      60\n",
       "29      53\n",
       "28      51\n",
       "33      46\n",
       "27      44\n",
       "30      44\n",
       "24      42\n",
       "26      41\n",
       "32      41\n",
       "25      37\n",
       "23      36\n",
       "36      34\n",
       "35      32\n",
       "22      32\n",
       "39      30\n",
       "37      29\n",
       "34      29\n",
       "21      28\n",
       "38      25\n",
       "20      22\n",
       "19      19\n",
       "40      16\n",
       "42      15\n",
       "17      14\n",
       "41      13\n",
       "16      13\n",
       "43       9\n",
       "15       9\n",
       "18       7\n",
       "44       7\n",
       "14       7\n",
       "45       6\n",
       "12       6\n",
       "46       4\n",
       "13       4\n",
       "47       3\n",
       "8        2\n",
       "48       2\n",
       "50       2\n",
       "9        2\n",
       "11       2\n",
       "49       1\n",
       "10       1\n",
       "4        1\n",
       "51       1\n",
       "Name: number vmail messages, dtype: int64"
      ]
     },
     "execution_count": 9,
     "metadata": {},
     "output_type": "execute_result"
    }
   ],
   "source": [
    "df['number vmail messages'].value_counts()"
   ]
  },
  {
   "cell_type": "code",
   "execution_count": 10,
   "metadata": {},
   "outputs": [
    {
     "data": {
      "text/plain": [
       "1    1181\n",
       "2     759\n",
       "0     697\n",
       "3     429\n",
       "4     166\n",
       "5      66\n",
       "6      22\n",
       "7       9\n",
       "9       2\n",
       "8       2\n",
       "Name: customer service calls, dtype: int64"
      ]
     },
     "execution_count": 10,
     "metadata": {},
     "output_type": "execute_result"
    }
   ],
   "source": [
    "df['customer service calls'].value_counts()"
   ]
  },
  {
   "cell_type": "code",
   "execution_count": 15,
   "metadata": {},
   "outputs": [
    {
     "data": {
      "text/plain": [
       "0.14491449144914492"
      ]
     },
     "execution_count": 15,
     "metadata": {},
     "output_type": "execute_result"
    }
   ],
   "source": [
    "#Churn rate, for reference\n",
    "churn_rate = sum(df['churn']) / len(df['churn'])\n",
    "churn_rate"
   ]
  },
  {
   "cell_type": "markdown",
   "metadata": {},
   "source": [
    "This is helpfully quite a clean dataset, we will drop the phone number column and change our binary columns to have numeric values."
   ]
  },
  {
   "cell_type": "code",
   "execution_count": 11,
   "metadata": {},
   "outputs": [],
   "source": [
    "#Dropping phone number column\n",
    "df.drop(columns=['phone number'], inplace=True)"
   ]
  },
  {
   "cell_type": "code",
   "execution_count": 12,
   "metadata": {},
   "outputs": [],
   "source": [
    "#Replacing binary column variables with 0 or 1\n",
    "df.replace(False, 0, inplace=True)\n",
    "df.replace(True, 1, inplace=True)\n",
    "df.replace('no', 0, inplace=True)\n",
    "df.replace('yes', 1, inplace=True)"
   ]
  },
  {
   "cell_type": "code",
   "execution_count": 13,
   "metadata": {},
   "outputs": [
    {
     "data": {
      "text/plain": [
       "<matplotlib.axes._subplots.AxesSubplot at 0x7fa81ea88278>"
      ]
     },
     "execution_count": 13,
     "metadata": {},
     "output_type": "execute_result"
    },
    {
     "data": {
      "image/png": "[encoded data removed]",
      "text/plain": [
       "<Figure size 432x288 with 1 Axes>"
      ]
     },
     "metadata": {
      "needs_background": "light"
     },
     "output_type": "display_data"
    }
   ],
   "source": [
    "#Looking at customer service data in relation to churn\n",
    "sns.barplot(x='customer service calls', y='churn',\n",
    "                    data=df, palette='mako', ci=None)"
   ]
  },
  {
   "cell_type": "code",
   "execution_count": 14,
   "metadata": {},
   "outputs": [
    {
     "data": {
      "text/plain": [
       "<matplotlib.axes._subplots.AxesSubplot at 0x7fa823fae2b0>"
      ]
     },
     "execution_count": 14,
     "metadata": {},
     "output_type": "execute_result"
    },
    {
     "data": {
      "image/png": "[encoded data removed]",
      "text/plain": [
       "<Figure size 432x288 with 1 Axes>"
      ]
     },
     "metadata": {
      "needs_background": "light"
     },
     "output_type": "display_data"
    }
   ],
   "source": [
    "sns.boxplot(x='churn', y='customer service calls',\n",
    "              data=df, palette='mako')"
   ]
  },
  {
   "cell_type": "markdown",
   "metadata": {},
   "source": [
    "Looking at value counts for customer service calls above made me want to plot out some of this data.  We see that churn rate rises steeply especially at four or more calls."
   ]
  },
  {
   "cell_type": "markdown",
   "metadata": {},
   "source": [
    "Let's create new columns for total minutes and calls and see how they compare."
   ]
  },
  {
   "cell_type": "code",
   "execution_count": 16,
   "metadata": {},
   "outputs": [],
   "source": [
    "#Adding new columns for total minutes and calls to plot\n",
    "df['total_minutes'] = df['total day minutes'] + df['total eve minutes'] + df['total night minutes']\n",
    "df['total_calls'] = df['total day calls'] + df['total eve calls'] + df['total night calls']"
   ]
  },
  {
   "cell_type": "code",
   "execution_count": 17,
   "metadata": {},
   "outputs": [
    {
     "data": {
      "text/plain": [
       "<matplotlib.axes._subplots.AxesSubplot at 0x7fa8240da518>"
      ]
     },
     "execution_count": 17,
     "metadata": {},
     "output_type": "execute_result"
    },
    {
     "data": {
      "image/png": "[encoded data removed]",
      "text/plain": [
       "<Figure size 432x288 with 1 Axes>"
      ]
     },
     "metadata": {
      "needs_background": "light"
     },
     "output_type": "display_data"
    }
   ],
   "source": [
    "sns.boxplot(x='churn', y='total_calls',\n",
    "              data=df, palette='mako')"
   ]
  },
  {
   "cell_type": "code",
   "execution_count": 18,
   "metadata": {},
   "outputs": [
    {
     "data": {
      "text/plain": [
       "<matplotlib.axes._subplots.AxesSubplot at 0x7fa8240944a8>"
      ]
     },
     "execution_count": 18,
     "metadata": {},
     "output_type": "execute_result"
    },
    {
     "data": {
      "image/png": "[encoded data removed]",
      "text/plain": [
       "<Figure size 432x288 with 1 Axes>"
      ]
     },
     "metadata": {
      "needs_background": "light"
     },
     "output_type": "display_data"
    }
   ],
   "source": [
    "sns.boxplot(x='churn', y='total_minutes',\n",
    "              data=df, palette='mako')"
   ]
  },
  {
   "cell_type": "code",
   "execution_count": 19,
   "metadata": {},
   "outputs": [
    {
     "data": {
      "text/plain": [
       "<matplotlib.axes._subplots.AxesSubplot at 0x7fa824194ef0>"
      ]
     },
     "execution_count": 19,
     "metadata": {},
     "output_type": "execute_result"
    },
    {
     "data": {
      "image/png": "[encoded data removed]",
      "text/plain": [
       "<Figure size 432x288 with 1 Axes>"
      ]
     },
     "metadata": {
      "needs_background": "light"
     },
     "output_type": "display_data"
    }
   ],
   "source": [
    "sns.boxplot(x='churn', y='total intl calls',\n",
    "              data=df, palette='mako')"
   ]
  },
  {
   "cell_type": "markdown",
   "metadata": {},
   "source": [
    "Number of calls doesn't seem to have as much of an effect as number of minutes, however users who make more international calls seem to have more customer loyalty."
   ]
  },
  {
   "cell_type": "code",
   "execution_count": 20,
   "metadata": {},
   "outputs": [
    {
     "name": "stdout",
     "output_type": "stream",
     "text": [
      "0.3044545454545455\n",
      "0.1687546152710087\n",
      "0.0902803738317757\n",
      "0.6639999999999999\n"
     ]
    }
   ],
   "source": [
    "#Looking at median charges per call\n",
    "charges = ['total day charge', 'total eve charge', 'total night charge', 'total intl charge']\n",
    "calls = ['total day calls', 'total eve calls', 'total night calls', 'total intl calls']\n",
    "for charge, call in zip(charges, calls):\n",
    "    print((df[charge] / df[call]).median())"
   ]
  },
  {
   "cell_type": "markdown",
   "metadata": {},
   "source": [
    "It makes sense that our international rates are higher - depending on how later models value feature importance, we may want to recommend rate adjustments depending on time of day."
   ]
  },
  {
   "cell_type": "code",
   "execution_count": 22,
   "metadata": {},
   "outputs": [],
   "source": [
    "#Looking at churn rate by state\n",
    "state_churn = df.groupby('state')['churn'].value_counts(normalize=True)\n",
    "state_churn = pd.DataFrame(state_churn)\n",
    "state_churn.columns = ['amount']\n",
    "state_churn = state_churn.reset_index()"
   ]
  },
  {
   "cell_type": "code",
   "execution_count": 23,
   "metadata": {},
   "outputs": [
    {
     "data": {
      "text/plain": [
       "<seaborn.axisgrid.FacetGrid at 0x7fa824741c88>"
      ]
     },
     "execution_count": 23,
     "metadata": {},
     "output_type": "execute_result"
    },
    {
     "data": {
      "image/png": "[encoded data removed]",
      "text/plain": [
       "<Figure size 1851.88x720 with 1 Axes>"
      ]
     },
     "metadata": {
      "needs_background": "light"
     },
     "output_type": "display_data"
    }
   ],
   "source": [
    "sns.catplot(data=state_churn, kind='bar', x='state', y='amount', hue='churn', aspect=2.5, height=10)"
   ]
  },
  {
   "cell_type": "markdown",
   "metadata": {},
   "source": [
    "The above plot lists our churn rates by state; we can see that certain states (California, New Jersey, Texas) have particularly high churn rates and will explore the effect that this may or may not have in modeling."
   ]
  },
  {
   "cell_type": "markdown",
   "metadata": {},
   "source": [
    "# Modeling"
   ]
  },
  {
   "cell_type": "markdown",
   "metadata": {},
   "source": [
    "### Baseline Model "
   ]
  },
  {
   "cell_type": "markdown",
   "metadata": {},
   "source": [
    "For the time being, we will drop our state and area code columns and make a baseline model.  We will be using a scaled Random Forest model with Pipeline to help us calculate our ROC/AUC score with scikit-learn."
   ]
  },
  {
   "cell_type": "code",
   "execution_count": 24,
   "metadata": {},
   "outputs": [],
   "source": [
    "#Dropping state and area code columns for modeling\n",
    "new_df = df.drop(columns=['state', 'area code'], axis=1)"
   ]
  },
  {
   "cell_type": "code",
   "execution_count": 25,
   "metadata": {},
   "outputs": [],
   "source": [
    "#Creating predictor and target variables\n",
    "X = new_df.drop(columns=['churn'], axis=1)\n",
    "y = new_df.churn"
   ]
  },
  {
   "cell_type": "code",
   "execution_count": 26,
   "metadata": {},
   "outputs": [],
   "source": [
    "scaler = RobustScaler()"
   ]
  },
  {
   "cell_type": "code",
   "execution_count": 27,
   "metadata": {},
   "outputs": [],
   "source": [
    "RF = RandomForestClassifier()"
   ]
  },
  {
   "cell_type": "code",
   "execution_count": 28,
   "metadata": {},
   "outputs": [],
   "source": [
    "#Building pipeline with scaled data and RandomForestClassifier\n",
    "pipeline = make_pipeline(scaler, RF)"
   ]
  },
  {
   "cell_type": "code",
   "execution_count": 29,
   "metadata": {},
   "outputs": [],
   "source": [
    "#Creating train and test splits\n",
    "X_train, X_test, y_train, y_test = train_test_split(X, y, test_size=.25,  random_state=42)"
   ]
  },
  {
   "cell_type": "code",
   "execution_count": 30,
   "metadata": {},
   "outputs": [
    {
     "data": {
      "text/plain": [
       "Pipeline(steps=[('robustscaler', RobustScaler()),\n",
       "                ('randomforestclassifier', RandomForestClassifier())])"
      ]
     },
     "execution_count": 30,
     "metadata": {},
     "output_type": "execute_result"
    }
   ],
   "source": [
    "#Fitting the pipeline\n",
    "pipeline.fit(X_train, y_train)"
   ]
  },
  {
   "cell_type": "code",
   "execution_count": 31,
   "metadata": {},
   "outputs": [],
   "source": [
    "#Saving predictions\n",
    "train_pred = pipeline.predict(X_train)\n",
    "test_pred = pipeline.predict(X_test)"
   ]
  },
  {
   "cell_type": "code",
   "execution_count": 32,
   "metadata": {},
   "outputs": [],
   "source": [
    "#Looking at roc_auc_scores\n",
    "train_score = roc_auc_score(y_train, train_pred)\n",
    "test_score = roc_auc_score(y_test, test_pred)"
   ]
  },
  {
   "cell_type": "code",
   "execution_count": 33,
   "metadata": {},
   "outputs": [
    {
     "data": {
      "text/plain": [
       "1.0"
      ]
     },
     "execution_count": 33,
     "metadata": {},
     "output_type": "execute_result"
    }
   ],
   "source": [
    "train_score"
   ]
  },
  {
   "cell_type": "code",
   "execution_count": 34,
   "metadata": {},
   "outputs": [
    {
     "data": {
      "text/plain": [
       "0.866589562764457"
      ]
     },
     "execution_count": 34,
     "metadata": {},
     "output_type": "execute_result"
    }
   ],
   "source": [
    "test_score"
   ]
  },
  {
   "cell_type": "markdown",
   "metadata": {},
   "source": [
    "To avoid overfitting, we can use GridSearch to help with finding the best parameters."
   ]
  },
  {
   "cell_type": "code",
   "execution_count": 36,
   "metadata": {},
   "outputs": [],
   "source": [
    "#Setting GridSearch parameters\n",
    "grid_param = {'n_estimators': [50,100], \n",
    "              'class_weight': ['balanced'], \n",
    "              'criterion': ['gini', 'entropy'], \n",
    "              'max_depth': [2,4,6], \n",
    "              'min_samples_split': [2, 5, 10], \n",
    "              'min_samples_leaf': [1, 3, 5]\n",
    "              } "
   ]
  },
  {
   "cell_type": "code",
   "execution_count": 37,
   "metadata": {},
   "outputs": [
    {
     "data": {
      "text/plain": [
       "GridSearchCV(cv=3, estimator=RandomForestClassifier(),\n",
       "             param_grid={'class_weight': ['balanced'],\n",
       "                         'criterion': ['gini', 'entropy'],\n",
       "                         'max_depth': [2, 4, 6], 'min_samples_leaf': [1, 3, 5],\n",
       "                         'min_samples_split': [2, 5, 10],\n",
       "                         'n_estimators': [50, 100]},\n",
       "             scoring='roc_auc')"
      ]
     },
     "execution_count": 37,
     "metadata": {},
     "output_type": "execute_result"
    }
   ],
   "source": [
    "#GridSearch fit. WARNING - this takes time to run.\n",
    "grid_search = GridSearchCV(RF, grid_param, cv=3, scoring='roc_auc')\n",
    "grid_search.fit(X_train, y_train)"
   ]
  },
  {
   "cell_type": "code",
   "execution_count": 38,
   "metadata": {},
   "outputs": [
    {
     "data": {
      "text/plain": [
       "{'class_weight': 'balanced',\n",
       " 'criterion': 'entropy',\n",
       " 'max_depth': 4,\n",
       " 'min_samples_leaf': 5,\n",
       " 'min_samples_split': 2,\n",
       " 'n_estimators': 100}"
      ]
     },
     "execution_count": 38,
     "metadata": {},
     "output_type": "execute_result"
    }
   ],
   "source": [
    "#Identifying best GridSearch parameters and using best estimator method to re-fit model\n",
    "grid_search.best_params_"
   ]
  },
  {
   "cell_type": "code",
   "execution_count": 39,
   "metadata": {},
   "outputs": [],
   "source": [
    "RF_best = grid_search.best_estimator_"
   ]
  },
  {
   "cell_type": "code",
   "execution_count": 40,
   "metadata": {},
   "outputs": [
    {
     "data": {
      "text/plain": [
       "RandomForestClassifier(class_weight='balanced', criterion='entropy',\n",
       "                       max_depth=4, min_samples_leaf=5)"
      ]
     },
     "execution_count": 40,
     "metadata": {},
     "output_type": "execute_result"
    }
   ],
   "source": [
    "RF_best.fit(X_train, y_train)"
   ]
  },
  {
   "cell_type": "code",
   "execution_count": 41,
   "metadata": {},
   "outputs": [],
   "source": [
    "train_pred2 = RF_best.predict(X_train)\n",
    "test_pred2 = RF_best.predict(X_test)"
   ]
  },
  {
   "cell_type": "code",
   "execution_count": 42,
   "metadata": {},
   "outputs": [],
   "source": [
    "train_score2 = roc_auc_score(y_train, train_pred2)"
   ]
  },
  {
   "cell_type": "code",
   "execution_count": 43,
   "metadata": {},
   "outputs": [],
   "source": [
    "test_score2 = roc_auc_score(y_test, test_pred2)"
   ]
  },
  {
   "cell_type": "code",
   "execution_count": 44,
   "metadata": {},
   "outputs": [
    {
     "data": {
      "text/plain": [
       "0.9058890144270285"
      ]
     },
     "execution_count": 44,
     "metadata": {},
     "output_type": "execute_result"
    }
   ],
   "source": [
    "train_score2"
   ]
  },
  {
   "cell_type": "code",
   "execution_count": 45,
   "metadata": {},
   "outputs": [
    {
     "data": {
      "text/plain": [
       "0.9052016925246826"
      ]
     },
     "execution_count": 45,
     "metadata": {},
     "output_type": "execute_result"
    }
   ],
   "source": [
    "test_score2"
   ]
  },
  {
   "cell_type": "markdown",
   "metadata": {},
   "source": [
    "These scores look more consistent, but because this is a binary classification problem a confusion matrix will come in handy."
   ]
  },
  {
   "cell_type": "code",
   "execution_count": 46,
   "metadata": {},
   "outputs": [
    {
     "data": {
      "text/plain": [
       "<sklearn.metrics._plot.confusion_matrix.ConfusionMatrixDisplay at 0x7fa8256f07b8>"
      ]
     },
     "execution_count": 46,
     "metadata": {},
     "output_type": "execute_result"
    },
    {
     "data": {
      "image/png": "[encoded data removed]",
      "text/plain": [
       "<Figure size 432x288 with 2 Axes>"
      ]
     },
     "metadata": {
      "needs_background": "light"
     },
     "output_type": "display_data"
    }
   ],
   "source": [
    "#Plotting confusion matrices for train and test sets\n",
    "plot_confusion_matrix(RF_best, X_train, y_train, cmap=plt.cm.Blues, values_format='.3g')"
   ]
  },
  {
   "cell_type": "code",
   "execution_count": 47,
   "metadata": {},
   "outputs": [
    {
     "data": {
      "text/plain": [
       "<sklearn.metrics._plot.confusion_matrix.ConfusionMatrixDisplay at 0x7fa82472d668>"
      ]
     },
     "execution_count": 47,
     "metadata": {},
     "output_type": "execute_result"
    },
    {
     "data": {
      "image/png": "[encoded data removed]",
      "text/plain": [
       "<Figure size 432x288 with 2 Axes>"
      ]
     },
     "metadata": {
      "needs_background": "light"
     },
     "output_type": "display_data"
    }
   ],
   "source": [
    "plot_confusion_matrix(RF_best, X_test, y_test, cmap=plt.cm.Blues, values_format='.3g')"
   ]
  },
  {
   "cell_type": "markdown",
   "metadata": {},
   "source": [
    "We are attempting to predict churn from our dataset, and will be most interested in recall - accurately identifying our positives.  Misidentifying a customer as someone who will churn is not ideal, but the opposite - missing a customer who will churn - is much worse for this business problem. "
   ]
  },
  {
   "cell_type": "code",
   "execution_count": 48,
   "metadata": {},
   "outputs": [],
   "source": [
    "#Creating reference function for metrics\n",
    "def print_metrics(labels, preds):\n",
    "    print(\"Precision Score: {}\".format(precision_score(labels, preds)))\n",
    "    print(\"Recall Score: {}\".format(recall_score(labels, preds)))\n",
    "    print(\"Accuracy Score: {}\".format(accuracy_score(labels, preds)))\n",
    "    print(\"F1 Score: {}\".format(f1_score(labels, preds)))"
   ]
  },
  {
   "cell_type": "code",
   "execution_count": 49,
   "metadata": {},
   "outputs": [
    {
     "name": "stdout",
     "output_type": "stream",
     "text": [
      "Precision Score: 0.7688442211055276\n",
      "Recall Score: 0.8547486033519553\n",
      "Accuracy Score: 0.9423769507803121\n",
      "F1 Score: 0.8095238095238094\n"
     ]
    }
   ],
   "source": [
    "print_metrics(y_train, train_pred2)"
   ]
  },
  {
   "cell_type": "markdown",
   "metadata": {},
   "source": [
    "This model works fairly well with recall, we will continue testing and return later on in the process."
   ]
  },
  {
   "cell_type": "markdown",
   "metadata": {},
   "source": [
    "### Logistic Regression"
   ]
  },
  {
   "cell_type": "code",
   "execution_count": 50,
   "metadata": {},
   "outputs": [],
   "source": [
    "#Using PCA for dimensionality reduction\n",
    "pca = decomposition.PCA()"
   ]
  },
  {
   "cell_type": "code",
   "execution_count": 51,
   "metadata": {},
   "outputs": [],
   "source": [
    "logreg = LogisticRegression(fit_intercept=False, solver='liblinear')"
   ]
  },
  {
   "cell_type": "code",
   "execution_count": 52,
   "metadata": {},
   "outputs": [],
   "source": [
    "pipeline = Pipeline(steps=[('pca', pca), ('logreg', logreg)])"
   ]
  },
  {
   "cell_type": "code",
   "execution_count": 53,
   "metadata": {},
   "outputs": [
    {
     "data": {
      "text/plain": [
       "Pipeline(steps=[('pca', PCA()),\n",
       "                ('logreg',\n",
       "                 LogisticRegression(fit_intercept=False, solver='liblinear'))])"
      ]
     },
     "execution_count": 53,
     "metadata": {},
     "output_type": "execute_result"
    }
   ],
   "source": [
    "pipeline.fit(X_train, y_train)"
   ]
  },
  {
   "cell_type": "code",
   "execution_count": 54,
   "metadata": {},
   "outputs": [],
   "source": [
    "train_preds = pipeline.predict(X_train)\n",
    "test_preds = pipeline.predict(X_test)"
   ]
  },
  {
   "cell_type": "code",
   "execution_count": 55,
   "metadata": {},
   "outputs": [],
   "source": [
    "train_score_3 = roc_auc_score(y_train, train_preds)\n",
    "test_score_3 = roc_auc_score(y_test, test_preds)"
   ]
  },
  {
   "cell_type": "code",
   "execution_count": 56,
   "metadata": {},
   "outputs": [
    {
     "data": {
      "text/plain": [
       "0.7461688398101447"
      ]
     },
     "execution_count": 56,
     "metadata": {},
     "output_type": "execute_result"
    }
   ],
   "source": [
    "train_score_3"
   ]
  },
  {
   "cell_type": "code",
   "execution_count": 57,
   "metadata": {},
   "outputs": [
    {
     "data": {
      "text/plain": [
       "0.7608744710860367"
      ]
     },
     "execution_count": 57,
     "metadata": {},
     "output_type": "execute_result"
    }
   ],
   "source": [
    "test_score_3"
   ]
  },
  {
   "cell_type": "code",
   "execution_count": 58,
   "metadata": {},
   "outputs": [
    {
     "data": {
      "text/plain": [
       "<sklearn.metrics._plot.confusion_matrix.ConfusionMatrixDisplay at 0x7fa82464ac50>"
      ]
     },
     "execution_count": 58,
     "metadata": {},
     "output_type": "execute_result"
    },
    {
     "data": {
      "image/png": "[encoded data removed]",
      "text/plain": [
       "<Figure size 432x288 with 2 Axes>"
      ]
     },
     "metadata": {
      "needs_background": "light"
     },
     "output_type": "display_data"
    }
   ],
   "source": [
    "plot_confusion_matrix(pipeline, X_train, y_train, cmap=plt.cm.Blues, values_format='.3g')"
   ]
  },
  {
   "cell_type": "code",
   "execution_count": 59,
   "metadata": {},
   "outputs": [
    {
     "data": {
      "text/plain": [
       "<sklearn.metrics._plot.confusion_matrix.ConfusionMatrixDisplay at 0x7fa824741208>"
      ]
     },
     "execution_count": 59,
     "metadata": {},
     "output_type": "execute_result"
    },
    {
     "data": {
      "image/png": "[encoded data removed]",
      "text/plain": [
       "<Figure size 432x288 with 2 Axes>"
      ]
     },
     "metadata": {
      "needs_background": "light"
     },
     "output_type": "display_data"
    }
   ],
   "source": [
    "plot_confusion_matrix(pipeline, X_test, y_test, cmap=plt.cm.Blues, values_format='.3g')"
   ]
  },
  {
   "cell_type": "markdown",
   "metadata": {},
   "source": [
    "This model produces few false negatives, however the increasingly larger number of false positives does not compare well enough to our Random Forest model to pursue in this case."
   ]
  },
  {
   "cell_type": "markdown",
   "metadata": {},
   "source": [
    "### Gradient Boosting and AdaBoost"
   ]
  },
  {
   "cell_type": "code",
   "execution_count": 61,
   "metadata": {},
   "outputs": [],
   "source": [
    "gbt_clf = GradientBoostingClassifier(random_state=42)\n",
    "adaboost_clf = AdaBoostClassifier(random_state=42)"
   ]
  },
  {
   "cell_type": "code",
   "execution_count": 62,
   "metadata": {},
   "outputs": [
    {
     "data": {
      "text/plain": [
       "GradientBoostingClassifier(random_state=42)"
      ]
     },
     "execution_count": 62,
     "metadata": {},
     "output_type": "execute_result"
    }
   ],
   "source": [
    "gbt_clf.fit(X_train, y_train)"
   ]
  },
  {
   "cell_type": "code",
   "execution_count": 63,
   "metadata": {},
   "outputs": [
    {
     "data": {
      "text/plain": [
       "AdaBoostClassifier(random_state=42)"
      ]
     },
     "execution_count": 63,
     "metadata": {},
     "output_type": "execute_result"
    }
   ],
   "source": [
    "adaboost_clf.fit(X_train, y_train)"
   ]
  },
  {
   "cell_type": "code",
   "execution_count": 64,
   "metadata": {},
   "outputs": [],
   "source": [
    "gbt_clf_train_preds = gbt_clf.predict(X_train)\n",
    "gbt_clf_test_preds = gbt_clf.predict(X_test)"
   ]
  },
  {
   "cell_type": "code",
   "execution_count": 65,
   "metadata": {},
   "outputs": [],
   "source": [
    "adaboost_train_preds = adaboost_clf.predict(X_train)\n",
    "adaboost_test_preds = adaboost_clf.predict(X_test)"
   ]
  },
  {
   "cell_type": "code",
   "execution_count": 66,
   "metadata": {},
   "outputs": [
    {
     "name": "stdout",
     "output_type": "stream",
     "text": [
      "Precision Score: 0.9967213114754099\n",
      "Recall Score: 0.8491620111731844\n",
      "Accuracy Score: 0.9779911964785915\n",
      "F1 Score: 0.9170437405731523\n"
     ]
    }
   ],
   "source": [
    "print_metrics(y_train, gbt_clf_train_preds)"
   ]
  },
  {
   "cell_type": "code",
   "execution_count": 67,
   "metadata": {},
   "outputs": [
    {
     "name": "stdout",
     "output_type": "stream",
     "text": [
      "Precision Score: 0.7531380753138075\n",
      "Recall Score: 0.5027932960893855\n",
      "Accuracy Score: 0.9051620648259304\n",
      "F1 Score: 0.6030150753768845\n"
     ]
    }
   ],
   "source": [
    "print_metrics(y_train, adaboost_train_preds)"
   ]
  },
  {
   "cell_type": "code",
   "execution_count": 68,
   "metadata": {},
   "outputs": [
    {
     "data": {
      "text/plain": [
       "<sklearn.metrics._plot.confusion_matrix.ConfusionMatrixDisplay at 0x7fa8232ff208>"
      ]
     },
     "execution_count": 68,
     "metadata": {},
     "output_type": "execute_result"
    },
    {
     "data": {
      "image/png": "[encoded data removed]",
      "text/plain": [
       "<Figure size 432x288 with 2 Axes>"
      ]
     },
     "metadata": {
      "needs_background": "light"
     },
     "output_type": "display_data"
    }
   ],
   "source": [
    "plot_confusion_matrix(gbt_clf, X_test, y_test, cmap=plt.cm.Blues, values_format='.3g')"
   ]
  },
  {
   "cell_type": "code",
   "execution_count": 69,
   "metadata": {},
   "outputs": [
    {
     "data": {
      "text/plain": [
       "<sklearn.metrics._plot.confusion_matrix.ConfusionMatrixDisplay at 0x7fa8245fd588>"
      ]
     },
     "execution_count": 69,
     "metadata": {},
     "output_type": "execute_result"
    },
    {
     "data": {
      "image/png": "[encoded data removed]",
      "text/plain": [
       "<Figure size 432x288 with 2 Axes>"
      ]
     },
     "metadata": {
      "needs_background": "light"
     },
     "output_type": "display_data"
    }
   ],
   "source": [
    "plot_confusion_matrix(adaboost_clf, X_test, y_test, cmap=plt.cm.Blues, values_format='.3g')"
   ]
  },
  {
   "cell_type": "markdown",
   "metadata": {},
   "source": [
    "Gradient Boosting works quite well here in precision and its recall is comparable to our Random Forest model."
   ]
  },
  {
   "cell_type": "markdown",
   "metadata": {},
   "source": [
    "### K-Nearest Neighbors"
   ]
  },
  {
   "cell_type": "code",
   "execution_count": 70,
   "metadata": {},
   "outputs": [
    {
     "data": {
      "text/plain": [
       "KNeighborsClassifier()"
      ]
     },
     "execution_count": 70,
     "metadata": {},
     "output_type": "execute_result"
    }
   ],
   "source": [
    "knn_clf = KNeighborsClassifier()\n",
    "knn_clf.fit(X_train, y_train)"
   ]
  },
  {
   "cell_type": "code",
   "execution_count": 71,
   "metadata": {},
   "outputs": [],
   "source": [
    "knn_clf_train_preds = knn_clf.predict(X_train)\n",
    "knn_clf_test_preds = knn_clf.predict(X_test)"
   ]
  },
  {
   "cell_type": "code",
   "execution_count": 72,
   "metadata": {},
   "outputs": [
    {
     "name": "stdout",
     "output_type": "stream",
     "text": [
      "Precision Score: 0.8291139240506329\n",
      "Recall Score: 0.3659217877094972\n",
      "Accuracy Score: 0.898359343737495\n",
      "F1 Score: 0.5077519379844961\n"
     ]
    }
   ],
   "source": [
    "print_metrics(y_train, knn_clf_train_preds)"
   ]
  },
  {
   "cell_type": "code",
   "execution_count": 73,
   "metadata": {},
   "outputs": [
    {
     "name": "stdout",
     "output_type": "stream",
     "text": [
      "Precision Score: 0.6896551724137931\n",
      "Recall Score: 0.32\n",
      "Accuracy Score: 0.8764988009592326\n",
      "F1 Score: 0.4371584699453552\n"
     ]
    }
   ],
   "source": [
    "print_metrics(y_test, knn_clf_test_preds)"
   ]
  },
  {
   "cell_type": "code",
   "execution_count": 74,
   "metadata": {},
   "outputs": [
    {
     "data": {
      "text/plain": [
       "<sklearn.metrics._plot.confusion_matrix.ConfusionMatrixDisplay at 0x7fa82464a9b0>"
      ]
     },
     "execution_count": 74,
     "metadata": {},
     "output_type": "execute_result"
    },
    {
     "data": {
      "image/png": "[encoded data removed]",
      "text/plain": [
       "<Figure size 432x288 with 2 Axes>"
      ]
     },
     "metadata": {
      "needs_background": "light"
     },
     "output_type": "display_data"
    }
   ],
   "source": [
    "plot_confusion_matrix(knn_clf, X_test, y_test, cmap=plt.cm.Blues, values_format='.3g')"
   ]
  },
  {
   "cell_type": "code",
   "execution_count": 75,
   "metadata": {},
   "outputs": [],
   "source": [
    "#Creating function to find best k value if helpful\n",
    "def find_best_k(X_train, y_train, X_test, y_test, min_k=1, max_k=25):\n",
    "    best_k = 0\n",
    "    best_score = 0.0\n",
    "    for k in range(min_k, max_k+1, 2):\n",
    "        knn = KNeighborsClassifier(n_neighbors=k)\n",
    "        knn.fit(X_train, y_train)\n",
    "        preds = knn.predict(X_test)\n",
    "        recall = recall_score(y_test, preds)\n",
    "        if recall > best_score:\n",
    "            best_k = k\n",
    "            best_score = recall\n",
    "    \n",
    "    print(\"Best Value for k: {}\".format(best_k))\n",
    "    print(\"Recall: {}\".format(best_score))"
   ]
  },
  {
   "cell_type": "code",
   "execution_count": 76,
   "metadata": {},
   "outputs": [
    {
     "name": "stdout",
     "output_type": "stream",
     "text": [
      "Best Value for k: 1\n",
      "Recall: 0.384\n"
     ]
    }
   ],
   "source": [
    "find_best_k(X_train, y_train, X_test, y_test, min_k=1, max_k=25)"
   ]
  },
  {
   "cell_type": "markdown",
   "metadata": {},
   "source": [
    "Our K-Nearest Neighbors model performed relatively poorly despite a slight increase in recall using our find_best_k function."
   ]
  },
  {
   "cell_type": "code",
   "execution_count": 78,
   "metadata": {},
   "outputs": [
    {
     "name": "stdout",
     "output_type": "stream",
     "text": [
      "Training Metrics\n",
      "Model: AdaBoost\n",
      "Accuracy: 0.9051620648259304\n",
      "ROC AUC Score: 0.7376180399176492\n",
      "Recall: 0.5027932960893855\n",
      "\n",
      "Model: Gradient Boosted Trees\n",
      "Accuracy: 0.9779911964785915\n",
      "ROC AUC Score: 0.9243474698556252\n",
      "Recall: 0.8491620111731844\n",
      "\n",
      "Model: Random Forest Classifier\n",
      "Accuracy: 0.9423769507803121\n",
      "ROC AUC Score: 0.9058890144270285\n",
      "Recall: 0.8547486033519553\n",
      "\n",
      "Testing Metrics\n",
      "Model: AdaBoost\n",
      "Accuracy: 0.882494004796163\n",
      "ROC AUC Score: 0.6870747531734839\n",
      "Recall: 0.408\n",
      "\n",
      "Model: Gradient Boosted Trees\n",
      "Accuracy: 0.9592326139088729\n",
      "ROC AUC Score: 0.877179125528914\n",
      "Recall: 0.76\n",
      "\n",
      "Model: Random Forest Classifier\n",
      "Accuracy: 0.934052757793765\n",
      "ROC AUC Score: 0.9052016925246826\n",
      "Recall: 0.864\n"
     ]
    }
   ],
   "source": [
    "#Function to display key metrics of more successful models\n",
    "def display_acc_and_roc_auc_score(true, preds, model_name):\n",
    "    acc = accuracy_score(true, preds)\n",
    "    roc_auc = roc_auc_score(true, preds)\n",
    "    recall = recall_score(true, preds)\n",
    "    print(\"Model: {}\".format(model_name))\n",
    "    print(\"Accuracy: {}\".format(acc))\n",
    "    print(\"ROC AUC Score: {}\".format(roc_auc))\n",
    "    print(\"Recall: {}\".format(recall))\n",
    "    \n",
    "print(\"Training Metrics\")\n",
    "display_acc_and_roc_auc_score(y_train, adaboost_train_preds, model_name='AdaBoost')\n",
    "print(\"\")\n",
    "display_acc_and_roc_auc_score(y_train, gbt_clf_train_preds, model_name='Gradient Boosted Trees')\n",
    "print(\"\")\n",
    "display_acc_and_roc_auc_score(y_train, train_pred2, model_name='Random Forest Classifier')\n",
    "print(\"\")\n",
    "print(\"Testing Metrics\")\n",
    "display_acc_and_roc_auc_score(y_test, adaboost_test_preds, model_name='AdaBoost')\n",
    "print(\"\")\n",
    "display_acc_and_roc_auc_score(y_test, gbt_clf_test_preds, model_name='Gradient Boosted Trees')\n",
    "print(\"\")\n",
    "display_acc_and_roc_auc_score(y_test, test_pred2, model_name='Random Forest Classifier')"
   ]
  },
  {
   "cell_type": "markdown",
   "metadata": {},
   "source": [
    "Looking at a summary of our better-performing models, Gradient Boosting and Random Forest stand out above AdaBoost.  Let's see how we can tune these two remaining models to improve performance."
   ]
  },
  {
   "cell_type": "markdown",
   "metadata": {},
   "source": [
    "## Bringing Back Area Code/State and One Hot Encoding"
   ]
  },
  {
   "cell_type": "markdown",
   "metadata": {},
   "source": [
    "We had removed both area code and state for our initial model, let's create dummy variables for these for our next iteration of the Random Forest model."
   ]
  },
  {
   "cell_type": "code",
   "execution_count": 80,
   "metadata": {},
   "outputs": [],
   "source": [
    "#Creating dummy variables for state and area code\n",
    "one_hot_df = pd.get_dummies(data=df, columns=['state', 'area code'], drop_first=True)"
   ]
  },
  {
   "cell_type": "code",
   "execution_count": 81,
   "metadata": {},
   "outputs": [
    {
     "data": {
      "text/plain": [
       "Index(['account length', 'international plan', 'voice mail plan',\n",
       "       'number vmail messages', 'total day minutes', 'total day calls',\n",
       "       'total day charge', 'total eve minutes', 'total eve calls',\n",
       "       'total eve charge', 'total night minutes', 'total night calls',\n",
       "       'total night charge', 'total intl minutes', 'total intl calls',\n",
       "       'total intl charge', 'customer service calls', 'churn', 'total_minutes',\n",
       "       'total_calls', 'state_AL', 'state_AR', 'state_AZ', 'state_CA',\n",
       "       'state_CO', 'state_CT', 'state_DC', 'state_DE', 'state_FL', 'state_GA',\n",
       "       'state_HI', 'state_IA', 'state_ID', 'state_IL', 'state_IN', 'state_KS',\n",
       "       'state_KY', 'state_LA', 'state_MA', 'state_MD', 'state_ME', 'state_MI',\n",
       "       'state_MN', 'state_MO', 'state_MS', 'state_MT', 'state_NC', 'state_ND',\n",
       "       'state_NE', 'state_NH', 'state_NJ', 'state_NM', 'state_NV', 'state_NY',\n",
       "       'state_OH', 'state_OK', 'state_OR', 'state_PA', 'state_RI', 'state_SC',\n",
       "       'state_SD', 'state_TN', 'state_TX', 'state_UT', 'state_VA', 'state_VT',\n",
       "       'state_WA', 'state_WI', 'state_WV', 'state_WY', 'area code_415',\n",
       "       'area code_510'],\n",
       "      dtype='object')"
      ]
     },
     "execution_count": 81,
     "metadata": {},
     "output_type": "execute_result"
    }
   ],
   "source": [
    "one_hot_df.columns"
   ]
  },
  {
   "cell_type": "code",
   "execution_count": 222,
   "metadata": {},
   "outputs": [
    {
     "data": {
      "text/html": [
       "<div>\n",
       "<style scoped>\n",
       "    .dataframe tbody tr th:only-of-type {\n",
       "        vertical-align: middle;\n",
       "    }\n",
       "\n",
       "    .dataframe tbody tr th {\n",
       "        vertical-align: top;\n",
       "    }\n",
       "\n",
       "    .dataframe thead th {\n",
       "        text-align: right;\n",
       "    }\n",
       "</style>\n",
       "<table border=\"1\" class=\"dataframe\">\n",
       "  <thead>\n",
       "    <tr style=\"text-align: right;\">\n",
       "      <th></th>\n",
       "      <th>account length</th>\n",
       "      <th>international plan</th>\n",
       "      <th>voice mail plan</th>\n",
       "      <th>number vmail messages</th>\n",
       "      <th>total day minutes</th>\n",
       "      <th>total day calls</th>\n",
       "      <th>total day charge</th>\n",
       "      <th>total eve minutes</th>\n",
       "      <th>total eve calls</th>\n",
       "      <th>total eve charge</th>\n",
       "      <th>...</th>\n",
       "      <th>state_TX</th>\n",
       "      <th>state_UT</th>\n",
       "      <th>state_VA</th>\n",
       "      <th>state_VT</th>\n",
       "      <th>state_WA</th>\n",
       "      <th>state_WI</th>\n",
       "      <th>state_WV</th>\n",
       "      <th>state_WY</th>\n",
       "      <th>area code_415</th>\n",
       "      <th>area code_510</th>\n",
       "    </tr>\n",
       "  </thead>\n",
       "  <tbody>\n",
       "    <tr>\n",
       "      <th>0</th>\n",
       "      <td>128</td>\n",
       "      <td>0</td>\n",
       "      <td>1</td>\n",
       "      <td>25</td>\n",
       "      <td>265.1</td>\n",
       "      <td>110</td>\n",
       "      <td>45.07</td>\n",
       "      <td>197.4</td>\n",
       "      <td>99</td>\n",
       "      <td>16.78</td>\n",
       "      <td>...</td>\n",
       "      <td>0</td>\n",
       "      <td>0</td>\n",
       "      <td>0</td>\n",
       "      <td>0</td>\n",
       "      <td>0</td>\n",
       "      <td>0</td>\n",
       "      <td>0</td>\n",
       "      <td>0</td>\n",
       "      <td>1</td>\n",
       "      <td>0</td>\n",
       "    </tr>\n",
       "    <tr>\n",
       "      <th>1</th>\n",
       "      <td>107</td>\n",
       "      <td>0</td>\n",
       "      <td>1</td>\n",
       "      <td>26</td>\n",
       "      <td>161.6</td>\n",
       "      <td>123</td>\n",
       "      <td>27.47</td>\n",
       "      <td>195.5</td>\n",
       "      <td>103</td>\n",
       "      <td>16.62</td>\n",
       "      <td>...</td>\n",
       "      <td>0</td>\n",
       "      <td>0</td>\n",
       "      <td>0</td>\n",
       "      <td>0</td>\n",
       "      <td>0</td>\n",
       "      <td>0</td>\n",
       "      <td>0</td>\n",
       "      <td>0</td>\n",
       "      <td>1</td>\n",
       "      <td>0</td>\n",
       "    </tr>\n",
       "    <tr>\n",
       "      <th>2</th>\n",
       "      <td>137</td>\n",
       "      <td>0</td>\n",
       "      <td>0</td>\n",
       "      <td>0</td>\n",
       "      <td>243.4</td>\n",
       "      <td>114</td>\n",
       "      <td>41.38</td>\n",
       "      <td>121.2</td>\n",
       "      <td>110</td>\n",
       "      <td>10.30</td>\n",
       "      <td>...</td>\n",
       "      <td>0</td>\n",
       "      <td>0</td>\n",
       "      <td>0</td>\n",
       "      <td>0</td>\n",
       "      <td>0</td>\n",
       "      <td>0</td>\n",
       "      <td>0</td>\n",
       "      <td>0</td>\n",
       "      <td>1</td>\n",
       "      <td>0</td>\n",
       "    </tr>\n",
       "    <tr>\n",
       "      <th>3</th>\n",
       "      <td>84</td>\n",
       "      <td>1</td>\n",
       "      <td>0</td>\n",
       "      <td>0</td>\n",
       "      <td>299.4</td>\n",
       "      <td>71</td>\n",
       "      <td>50.90</td>\n",
       "      <td>61.9</td>\n",
       "      <td>88</td>\n",
       "      <td>5.26</td>\n",
       "      <td>...</td>\n",
       "      <td>0</td>\n",
       "      <td>0</td>\n",
       "      <td>0</td>\n",
       "      <td>0</td>\n",
       "      <td>0</td>\n",
       "      <td>0</td>\n",
       "      <td>0</td>\n",
       "      <td>0</td>\n",
       "      <td>0</td>\n",
       "      <td>0</td>\n",
       "    </tr>\n",
       "    <tr>\n",
       "      <th>4</th>\n",
       "      <td>75</td>\n",
       "      <td>1</td>\n",
       "      <td>0</td>\n",
       "      <td>0</td>\n",
       "      <td>166.7</td>\n",
       "      <td>113</td>\n",
       "      <td>28.34</td>\n",
       "      <td>148.3</td>\n",
       "      <td>122</td>\n",
       "      <td>12.61</td>\n",
       "      <td>...</td>\n",
       "      <td>0</td>\n",
       "      <td>0</td>\n",
       "      <td>0</td>\n",
       "      <td>0</td>\n",
       "      <td>0</td>\n",
       "      <td>0</td>\n",
       "      <td>0</td>\n",
       "      <td>0</td>\n",
       "      <td>1</td>\n",
       "      <td>0</td>\n",
       "    </tr>\n",
       "  </tbody>\n",
       "</table>\n",
       "<p>5 rows × 72 columns</p>\n",
       "</div>"
      ],
      "text/plain": [
       "   account length  international plan  voice mail plan  number vmail messages  \\\n",
       "0             128                   0                1                     25   \n",
       "1             107                   0                1                     26   \n",
       "2             137                   0                0                      0   \n",
       "3              84                   1                0                      0   \n",
       "4              75                   1                0                      0   \n",
       "\n",
       "   total day minutes  total day calls  total day charge  total eve minutes  \\\n",
       "0              265.1              110             45.07              197.4   \n",
       "1              161.6              123             27.47              195.5   \n",
       "2              243.4              114             41.38              121.2   \n",
       "3              299.4               71             50.90               61.9   \n",
       "4              166.7              113             28.34              148.3   \n",
       "\n",
       "   total eve calls  total eve charge  ...  state_TX  state_UT  state_VA  \\\n",
       "0               99             16.78  ...         0         0         0   \n",
       "1              103             16.62  ...         0         0         0   \n",
       "2              110             10.30  ...         0         0         0   \n",
       "3               88              5.26  ...         0         0         0   \n",
       "4              122             12.61  ...         0         0         0   \n",
       "\n",
       "   state_VT  state_WA  state_WI  state_WV  state_WY  area code_415  \\\n",
       "0         0         0         0         0         0              1   \n",
       "1         0         0         0         0         0              1   \n",
       "2         0         0         0         0         0              1   \n",
       "3         0         0         0         0         0              0   \n",
       "4         0         0         0         0         0              1   \n",
       "\n",
       "   area code_510  \n",
       "0              0  \n",
       "1              0  \n",
       "2              0  \n",
       "3              0  \n",
       "4              0  \n",
       "\n",
       "[5 rows x 72 columns]"
      ]
     },
     "execution_count": 222,
     "metadata": {},
     "output_type": "execute_result"
    }
   ],
   "source": [
    "one_hot_df.head()"
   ]
  },
  {
   "cell_type": "code",
   "execution_count": 208,
   "metadata": {},
   "outputs": [],
   "source": [
    "X = one_hot_df.drop(columns=['churn'], axis=1)\n",
    "y = one_hot_df.churn\n",
    "X_train, X_test, y_train, y_test = train_test_split(X, y, test_size=.25,  random_state=42 )"
   ]
  },
  {
   "cell_type": "markdown",
   "metadata": {},
   "source": [
    "### Random Forest Baseline (One Hot)"
   ]
  },
  {
   "cell_type": "code",
   "execution_count": 209,
   "metadata": {},
   "outputs": [
    {
     "data": {
      "text/plain": [
       "GridSearchCV(cv=3, estimator=RandomForestClassifier(),\n",
       "             param_grid={'class_weight': ['balanced'],\n",
       "                         'criterion': ['gini', 'entropy'],\n",
       "                         'max_depth': [2, 4, 6], 'min_samples_leaf': [1, 3, 5],\n",
       "                         'min_samples_split': [2, 5, 10],\n",
       "                         'n_estimators': [50, 100]},\n",
       "             scoring='roc_auc')"
      ]
     },
     "execution_count": 209,
     "metadata": {},
     "output_type": "execute_result"
    }
   ],
   "source": [
    "RF = RandomForestClassifier()\n",
    "grid_param = {'n_estimators': [50,100], \n",
    "              'class_weight': ['balanced'], \n",
    "              'criterion': ['gini', 'entropy'], \n",
    "              'max_depth': [2,4,6], \n",
    "              'min_samples_split': [2, 5, 10], \n",
    "              'min_samples_leaf': [1, 3, 5]\n",
    "              } \n",
    "grid_search = GridSearchCV(RF, grid_param, cv=3, scoring='roc_auc')\n",
    "grid_search.fit(X_train, y_train)"
   ]
  },
  {
   "cell_type": "code",
   "execution_count": 210,
   "metadata": {},
   "outputs": [
    {
     "data": {
      "text/plain": [
       "{'class_weight': 'balanced',\n",
       " 'criterion': 'gini',\n",
       " 'max_depth': 6,\n",
       " 'min_samples_leaf': 3,\n",
       " 'min_samples_split': 5,\n",
       " 'n_estimators': 50}"
      ]
     },
     "execution_count": 210,
     "metadata": {},
     "output_type": "execute_result"
    }
   ],
   "source": [
    "grid_search.best_params_"
   ]
  },
  {
   "cell_type": "code",
   "execution_count": 211,
   "metadata": {},
   "outputs": [
    {
     "data": {
      "text/plain": [
       "RandomForestClassifier(class_weight='balanced', max_depth=6, min_samples_leaf=3,\n",
       "                       min_samples_split=5, n_estimators=50)"
      ]
     },
     "execution_count": 211,
     "metadata": {},
     "output_type": "execute_result"
    }
   ],
   "source": [
    "RF_best = grid_search.best_estimator_\n",
    "RF_best.fit(X_train, y_train)"
   ]
  },
  {
   "cell_type": "code",
   "execution_count": 212,
   "metadata": {},
   "outputs": [],
   "source": [
    "train_pred2 = RF_best.predict(X_train)\n",
    "test_pred2 = RF_best.predict(X_test)"
   ]
  },
  {
   "cell_type": "code",
   "execution_count": 213,
   "metadata": {},
   "outputs": [],
   "source": [
    "train_score2 = roc_auc_score(y_train, train_pred2)\n",
    "test_score2 = roc_auc_score(y_test, test_pred2)"
   ]
  },
  {
   "cell_type": "code",
   "execution_count": 214,
   "metadata": {},
   "outputs": [
    {
     "data": {
      "text/plain": [
       "0.9128950863560337"
      ]
     },
     "execution_count": 214,
     "metadata": {},
     "output_type": "execute_result"
    }
   ],
   "source": [
    "train_score2"
   ]
  },
  {
   "cell_type": "code",
   "execution_count": 215,
   "metadata": {},
   "outputs": [
    {
     "data": {
      "text/plain": [
       "0.8910747531734837"
      ]
     },
     "execution_count": 215,
     "metadata": {},
     "output_type": "execute_result"
    }
   ],
   "source": [
    "test_score2"
   ]
  },
  {
   "cell_type": "code",
   "execution_count": 216,
   "metadata": {},
   "outputs": [
    {
     "name": "stdout",
     "output_type": "stream",
     "text": [
      "Precision Score: 0.8315217391304348\n",
      "Recall Score: 0.8547486033519553\n",
      "Accuracy Score: 0.9543817527010804\n",
      "F1 Score: 0.8429752066115703\n"
     ]
    }
   ],
   "source": [
    "print_metrics(y_train, train_pred2)"
   ]
  },
  {
   "cell_type": "code",
   "execution_count": 217,
   "metadata": {},
   "outputs": [
    {
     "name": "stdout",
     "output_type": "stream",
     "text": [
      "Precision Score: 0.8095238095238095\n",
      "Recall Score: 0.816\n",
      "Accuracy Score: 0.9436450839328537\n",
      "F1 Score: 0.8127490039840637\n"
     ]
    }
   ],
   "source": [
    "print_metrics(y_test, test_pred2)"
   ]
  },
  {
   "cell_type": "code",
   "execution_count": 218,
   "metadata": {},
   "outputs": [
    {
     "data": {
      "text/plain": [
       "<sklearn.metrics._plot.confusion_matrix.ConfusionMatrixDisplay at 0x7fa80e5f4358>"
      ]
     },
     "execution_count": 218,
     "metadata": {},
     "output_type": "execute_result"
    },
    {
     "data": {
      "image/png": "[encoded data removed]",
      "text/plain": [
       "<Figure size 432x288 with 2 Axes>"
      ]
     },
     "metadata": {
      "needs_background": "light"
     },
     "output_type": "display_data"
    }
   ],
   "source": [
    "plot_confusion_matrix(RF_best, X_train, y_train, cmap=plt.cm.Blues, values_format='.3g')"
   ]
  },
  {
   "cell_type": "code",
   "execution_count": 219,
   "metadata": {},
   "outputs": [
    {
     "data": {
      "text/plain": [
       "<sklearn.metrics._plot.confusion_matrix.ConfusionMatrixDisplay at 0x7fa80e24cb00>"
      ]
     },
     "execution_count": 219,
     "metadata": {},
     "output_type": "execute_result"
    },
    {
     "data": {
      "image/png": "[encoded data removed]",
      "text/plain": [
       "<Figure size 432x288 with 2 Axes>"
      ]
     },
     "metadata": {
      "needs_background": "light"
     },
     "output_type": "display_data"
    }
   ],
   "source": [
    "plot_confusion_matrix(RF_best, X_test, y_test, cmap=plt.cm.Blues, values_format='.3g')"
   ]
  },
  {
   "cell_type": "markdown",
   "metadata": {},
   "source": [
    "Our recall has stayed relatively the same however precision has improved on the baseline model."
   ]
  },
  {
   "cell_type": "markdown",
   "metadata": {},
   "source": [
    "### Gradient Boosting (One Hot)"
   ]
  },
  {
   "cell_type": "code",
   "execution_count": 94,
   "metadata": {},
   "outputs": [
    {
     "data": {
      "text/plain": [
       "GradientBoostingClassifier(random_state=42)"
      ]
     },
     "execution_count": 94,
     "metadata": {},
     "output_type": "execute_result"
    }
   ],
   "source": [
    "gbt_clf = GradientBoostingClassifier(random_state=42)\n",
    "gbt_clf.fit(X_train, y_train)"
   ]
  },
  {
   "cell_type": "code",
   "execution_count": 95,
   "metadata": {},
   "outputs": [],
   "source": [
    "gbt_clf_train_preds = gbt_clf.predict(X_train)\n",
    "gbt_clf_test_preds = gbt_clf.predict(X_test)"
   ]
  },
  {
   "cell_type": "code",
   "execution_count": 96,
   "metadata": {},
   "outputs": [
    {
     "name": "stdout",
     "output_type": "stream",
     "text": [
      "Precision Score: 0.993421052631579\n",
      "Recall Score: 0.8435754189944135\n",
      "Accuracy Score: 0.9767907162865146\n",
      "F1 Score: 0.9123867069486405\n"
     ]
    }
   ],
   "source": [
    "print_metrics(y_train, gbt_clf_train_preds)"
   ]
  },
  {
   "cell_type": "code",
   "execution_count": 207,
   "metadata": {},
   "outputs": [
    {
     "name": "stdout",
     "output_type": "stream",
     "text": [
      "Precision Score: 0.96875\n",
      "Recall Score: 0.744\n",
      "Accuracy Score: 0.9580335731414868\n",
      "F1 Score: 0.8416289592760181\n"
     ]
    }
   ],
   "source": [
    "print_metrics(y_test, gbt_clf_test_preds)"
   ]
  },
  {
   "cell_type": "code",
   "execution_count": 97,
   "metadata": {},
   "outputs": [
    {
     "data": {
      "text/plain": [
       "<sklearn.metrics._plot.confusion_matrix.ConfusionMatrixDisplay at 0x7fa80b8a7e48>"
      ]
     },
     "execution_count": 97,
     "metadata": {},
     "output_type": "execute_result"
    },
    {
     "data": {
      "image/png": "[encoded data removed]",
      "text/plain": [
       "<Figure size 432x288 with 2 Axes>"
      ]
     },
     "metadata": {
      "needs_background": "light"
     },
     "output_type": "display_data"
    }
   ],
   "source": [
    "plot_confusion_matrix(gbt_clf, X_train, y_train, cmap=plt.cm.Blues, values_format='.3g')"
   ]
  },
  {
   "cell_type": "code",
   "execution_count": 98,
   "metadata": {},
   "outputs": [
    {
     "data": {
      "text/plain": [
       "<sklearn.metrics._plot.confusion_matrix.ConfusionMatrixDisplay at 0x7fa80bb4e198>"
      ]
     },
     "execution_count": 98,
     "metadata": {},
     "output_type": "execute_result"
    },
    {
     "data": {
      "image/png": "[encoded data removed]",
      "text/plain": [
       "<Figure size 432x288 with 2 Axes>"
      ]
     },
     "metadata": {
      "needs_background": "light"
     },
     "output_type": "display_data"
    }
   ],
   "source": [
    "plot_confusion_matrix(gbt_clf, X_test, y_test, cmap=plt.cm.Blues, values_format='.3g')"
   ]
  },
  {
   "cell_type": "markdown",
   "metadata": {},
   "source": [
    "Our dummy variables again help reduce false positives while false negatives remain comparable to the previous model. Let's try using SMOTE to balance our data."
   ]
  },
  {
   "cell_type": "markdown",
   "metadata": {},
   "source": [
    "### Gradient Boosting with SMOTE and Pipeline"
   ]
  },
  {
   "cell_type": "code",
   "execution_count": 99,
   "metadata": {},
   "outputs": [
    {
     "data": {
      "text/plain": [
       "GradientBoostingClassifier()"
      ]
     },
     "execution_count": 99,
     "metadata": {},
     "output_type": "execute_result"
    }
   ],
   "source": [
    "X = new_df.drop(columns=['churn'], axis=1)\n",
    "y = new_df.churn\n",
    "X_train, X_test, y_train, y_test = train_test_split(X, y, test_size=.25,  random_state=42 )\n",
    "smote = SMOTE()\n",
    "gbt_clf = GradientBoostingClassifier()\n",
    "X_train_resampled, y_train_resampled = smote.fit_sample(X_train, y_train)\n",
    "gbt_clf.fit(X_train_resampled, y_train_resampled)"
   ]
  },
  {
   "cell_type": "code",
   "execution_count": 100,
   "metadata": {},
   "outputs": [],
   "source": [
    "pipeline = make_pipeline(smote, gbt_clf)"
   ]
  },
  {
   "cell_type": "code",
   "execution_count": 101,
   "metadata": {},
   "outputs": [
    {
     "data": {
      "text/plain": [
       "Pipeline(steps=[('smote', SMOTE()),\n",
       "                ('gradientboostingclassifier', GradientBoostingClassifier())])"
      ]
     },
     "execution_count": 101,
     "metadata": {},
     "output_type": "execute_result"
    }
   ],
   "source": [
    "pipeline.fit(X_train_resampled, y_train_resampled)"
   ]
  },
  {
   "cell_type": "code",
   "execution_count": 102,
   "metadata": {},
   "outputs": [
    {
     "data": {
      "text/plain": [
       "0.960431654676259"
      ]
     },
     "execution_count": 102,
     "metadata": {},
     "output_type": "execute_result"
    }
   ],
   "source": [
    "pipeline.score(X_test, y_test)"
   ]
  },
  {
   "cell_type": "code",
   "execution_count": 103,
   "metadata": {},
   "outputs": [],
   "source": [
    "pipeline_train_preds = pipeline.predict(X_train_resampled)\n",
    "pipeline_test_preds = pipeline.predict(X_test)"
   ]
  },
  {
   "cell_type": "code",
   "execution_count": 104,
   "metadata": {},
   "outputs": [
    {
     "name": "stdout",
     "output_type": "stream",
     "text": [
      "Precision Score: 0.9884113954611299\n",
      "Recall Score: 0.9560952825782345\n",
      "Accuracy Score: 0.9724427837459131\n",
      "F1 Score: 0.9719848053181387\n"
     ]
    }
   ],
   "source": [
    "print_metrics(y_train_resampled, pipeline_train_preds)"
   ]
  },
  {
   "cell_type": "code",
   "execution_count": 205,
   "metadata": {},
   "outputs": [
    {
     "name": "stdout",
     "output_type": "stream",
     "text": [
      "Precision Score: 0.8715596330275229\n",
      "Recall Score: 0.76\n",
      "Accuracy Score: 0.947242206235012\n",
      "F1 Score: 0.8119658119658119\n"
     ]
    }
   ],
   "source": [
    "print_metrics(y_test, pipeline_test_preds)"
   ]
  },
  {
   "cell_type": "code",
   "execution_count": 105,
   "metadata": {},
   "outputs": [
    {
     "data": {
      "text/plain": [
       "<sklearn.metrics._plot.confusion_matrix.ConfusionMatrixDisplay at 0x7fa80bf265f8>"
      ]
     },
     "execution_count": 105,
     "metadata": {},
     "output_type": "execute_result"
    },
    {
     "data": {
      "image/png": "[encoded data removed]",
      "text/plain": [
       "<Figure size 432x288 with 2 Axes>"
      ]
     },
     "metadata": {
      "needs_background": "light"
     },
     "output_type": "display_data"
    }
   ],
   "source": [
    "plot_confusion_matrix(pipeline, X_train_resampled, y_train_resampled, cmap=plt.cm.Blues, values_format='.3g')"
   ]
  },
  {
   "cell_type": "code",
   "execution_count": 106,
   "metadata": {},
   "outputs": [
    {
     "data": {
      "text/plain": [
       "<sklearn.metrics._plot.confusion_matrix.ConfusionMatrixDisplay at 0x7fa80bf262b0>"
      ]
     },
     "execution_count": 106,
     "metadata": {},
     "output_type": "execute_result"
    },
    {
     "data": {
      "image/png": "[encoded data removed]",
      "text/plain": [
       "<Figure size 432x288 with 2 Axes>"
      ]
     },
     "metadata": {
      "needs_background": "light"
     },
     "output_type": "display_data"
    }
   ],
   "source": [
    "plot_confusion_matrix(pipeline, X_test, y_test, cmap=plt.cm.Blues, values_format='.3g')"
   ]
  },
  {
   "cell_type": "markdown",
   "metadata": {},
   "source": [
    "A slight improvement, can GridSearch help us find the right parameters?"
   ]
  },
  {
   "cell_type": "code",
   "execution_count": 194,
   "metadata": {},
   "outputs": [
    {
     "name": "stdout",
     "output_type": "stream",
     "text": [
      "Fitting 3 folds for each of 144 candidates, totalling 432 fits\n",
      "[CV] END gradientboostingclassifier__max_depth=3, gradientboostingclassifier__min_samples_leaf=1, gradientboostingclassifier__min_samples_split=2, gradientboostingclassifier__n_estimators=50; total time=   0.3s\n",
      "[CV] END gradientboostingclassifier__max_depth=3, gradientboostingclassifier__min_samples_leaf=1, gradientboostingclassifier__min_samples_split=2, gradientboostingclassifier__n_estimators=50; total time=   0.2s\n",
      "[CV] END gradientboostingclassifier__max_depth=3, gradientboostingclassifier__min_samples_leaf=1, gradientboostingclassifier__min_samples_split=2, gradientboostingclassifier__n_estimators=50; total time=   0.2s\n",
      "[CV] END gradientboostingclassifier__max_depth=3, gradientboostingclassifier__min_samples_leaf=1, gradientboostingclassifier__min_samples_split=2, gradientboostingclassifier__n_estimators=100; total time=   0.5s\n",
      "[CV] END gradientboostingclassifier__max_depth=3, gradientboostingclassifier__min_samples_leaf=1, gradientboostingclassifier__min_samples_split=2, gradientboostingclassifier__n_estimators=100; total time=   0.4s\n",
      "[CV] END gradientboostingclassifier__max_depth=3, gradientboostingclassifier__min_samples_leaf=1, gradientboostingclassifier__min_samples_split=2, gradientboostingclassifier__n_estimators=100; total time=   0.4s\n",
      "[CV] END gradientboostingclassifier__max_depth=3, gradientboostingclassifier__min_samples_leaf=1, gradientboostingclassifier__min_samples_split=2, gradientboostingclassifier__n_estimators=200; total time=   0.9s\n",
      "[CV] END gradientboostingclassifier__max_depth=3, gradientboostingclassifier__min_samples_leaf=1, gradientboostingclassifier__min_samples_split=2, gradientboostingclassifier__n_estimators=200; total time=   0.8s\n",
      "[CV] END gradientboostingclassifier__max_depth=3, gradientboostingclassifier__min_samples_leaf=1, gradientboostingclassifier__min_samples_split=2, gradientboostingclassifier__n_estimators=200; total time=   0.8s\n",
      "[CV] END gradientboostingclassifier__max_depth=3, gradientboostingclassifier__min_samples_leaf=1, gradientboostingclassifier__min_samples_split=3, gradientboostingclassifier__n_estimators=50; total time=   0.2s\n",
      "[CV] END gradientboostingclassifier__max_depth=3, gradientboostingclassifier__min_samples_leaf=1, gradientboostingclassifier__min_samples_split=3, gradientboostingclassifier__n_estimators=50; total time=   0.2s\n",
      "[CV] END gradientboostingclassifier__max_depth=3, gradientboostingclassifier__min_samples_leaf=1, gradientboostingclassifier__min_samples_split=3, gradientboostingclassifier__n_estimators=50; total time=   0.2s\n",
      "[CV] END gradientboostingclassifier__max_depth=3, gradientboostingclassifier__min_samples_leaf=1, gradientboostingclassifier__min_samples_split=3, gradientboostingclassifier__n_estimators=100; total time=   0.4s\n",
      "[CV] END gradientboostingclassifier__max_depth=3, gradientboostingclassifier__min_samples_leaf=1, gradientboostingclassifier__min_samples_split=3, gradientboostingclassifier__n_estimators=100; total time=   0.4s\n",
      "[CV] END gradientboostingclassifier__max_depth=3, gradientboostingclassifier__min_samples_leaf=1, gradientboostingclassifier__min_samples_split=3, gradientboostingclassifier__n_estimators=100; total time=   0.4s\n",
      "[CV] END gradientboostingclassifier__max_depth=3, gradientboostingclassifier__min_samples_leaf=1, gradientboostingclassifier__min_samples_split=3, gradientboostingclassifier__n_estimators=200; total time=   0.9s\n",
      "[CV] END gradientboostingclassifier__max_depth=3, gradientboostingclassifier__min_samples_leaf=1, gradientboostingclassifier__min_samples_split=3, gradientboostingclassifier__n_estimators=200; total time=   0.8s\n",
      "[CV] END gradientboostingclassifier__max_depth=3, gradientboostingclassifier__min_samples_leaf=1, gradientboostingclassifier__min_samples_split=3, gradientboostingclassifier__n_estimators=200; total time=   0.9s\n",
      "[CV] END gradientboostingclassifier__max_depth=3, gradientboostingclassifier__min_samples_leaf=1, gradientboostingclassifier__min_samples_split=4, gradientboostingclassifier__n_estimators=50; total time=   0.2s\n",
      "[CV] END gradientboostingclassifier__max_depth=3, gradientboostingclassifier__min_samples_leaf=1, gradientboostingclassifier__min_samples_split=4, gradientboostingclassifier__n_estimators=50; total time=   0.2s\n",
      "[CV] END gradientboostingclassifier__max_depth=3, gradientboostingclassifier__min_samples_leaf=1, gradientboostingclassifier__min_samples_split=4, gradientboostingclassifier__n_estimators=50; total time=   0.2s\n",
      "[CV] END gradientboostingclassifier__max_depth=3, gradientboostingclassifier__min_samples_leaf=1, gradientboostingclassifier__min_samples_split=4, gradientboostingclassifier__n_estimators=100; total time=   0.4s\n",
      "[CV] END gradientboostingclassifier__max_depth=3, gradientboostingclassifier__min_samples_leaf=1, gradientboostingclassifier__min_samples_split=4, gradientboostingclassifier__n_estimators=100; total time=   0.4s\n",
      "[CV] END gradientboostingclassifier__max_depth=3, gradientboostingclassifier__min_samples_leaf=1, gradientboostingclassifier__min_samples_split=4, gradientboostingclassifier__n_estimators=100; total time=   0.4s\n",
      "[CV] END gradientboostingclassifier__max_depth=3, gradientboostingclassifier__min_samples_leaf=1, gradientboostingclassifier__min_samples_split=4, gradientboostingclassifier__n_estimators=200; total time=   0.9s\n",
      "[CV] END gradientboostingclassifier__max_depth=3, gradientboostingclassifier__min_samples_leaf=1, gradientboostingclassifier__min_samples_split=4, gradientboostingclassifier__n_estimators=200; total time=   0.8s\n",
      "[CV] END gradientboostingclassifier__max_depth=3, gradientboostingclassifier__min_samples_leaf=1, gradientboostingclassifier__min_samples_split=4, gradientboostingclassifier__n_estimators=200; total time=   0.8s\n",
      "[CV] END gradientboostingclassifier__max_depth=3, gradientboostingclassifier__min_samples_leaf=1, gradientboostingclassifier__min_samples_split=5, gradientboostingclassifier__n_estimators=50; total time=   0.2s\n",
      "[CV] END gradientboostingclassifier__max_depth=3, gradientboostingclassifier__min_samples_leaf=1, gradientboostingclassifier__min_samples_split=5, gradientboostingclassifier__n_estimators=50; total time=   0.2s\n",
      "[CV] END gradientboostingclassifier__max_depth=3, gradientboostingclassifier__min_samples_leaf=1, gradientboostingclassifier__min_samples_split=5, gradientboostingclassifier__n_estimators=50; total time=   0.2s\n",
      "[CV] END gradientboostingclassifier__max_depth=3, gradientboostingclassifier__min_samples_leaf=1, gradientboostingclassifier__min_samples_split=5, gradientboostingclassifier__n_estimators=100; total time=   0.4s\n",
      "[CV] END gradientboostingclassifier__max_depth=3, gradientboostingclassifier__min_samples_leaf=1, gradientboostingclassifier__min_samples_split=5, gradientboostingclassifier__n_estimators=100; total time=   0.4s\n",
      "[CV] END gradientboostingclassifier__max_depth=3, gradientboostingclassifier__min_samples_leaf=1, gradientboostingclassifier__min_samples_split=5, gradientboostingclassifier__n_estimators=100; total time=   0.4s\n",
      "[CV] END gradientboostingclassifier__max_depth=3, gradientboostingclassifier__min_samples_leaf=1, gradientboostingclassifier__min_samples_split=5, gradientboostingclassifier__n_estimators=200; total time=   0.9s\n",
      "[CV] END gradientboostingclassifier__max_depth=3, gradientboostingclassifier__min_samples_leaf=1, gradientboostingclassifier__min_samples_split=5, gradientboostingclassifier__n_estimators=200; total time=   0.9s\n",
      "[CV] END gradientboostingclassifier__max_depth=3, gradientboostingclassifier__min_samples_leaf=1, gradientboostingclassifier__min_samples_split=5, gradientboostingclassifier__n_estimators=200; total time=   0.8s\n",
      "[CV] END gradientboostingclassifier__max_depth=3, gradientboostingclassifier__min_samples_leaf=2, gradientboostingclassifier__min_samples_split=2, gradientboostingclassifier__n_estimators=50; total time=   0.2s\n",
      "[CV] END gradientboostingclassifier__max_depth=3, gradientboostingclassifier__min_samples_leaf=2, gradientboostingclassifier__min_samples_split=2, gradientboostingclassifier__n_estimators=50; total time=   0.2s\n",
      "[CV] END gradientboostingclassifier__max_depth=3, gradientboostingclassifier__min_samples_leaf=2, gradientboostingclassifier__min_samples_split=2, gradientboostingclassifier__n_estimators=50; total time=   0.2s\n"
     ]
    },
    {
     "name": "stdout",
     "output_type": "stream",
     "text": [
      "[CV] END gradientboostingclassifier__max_depth=3, gradientboostingclassifier__min_samples_leaf=2, gradientboostingclassifier__min_samples_split=2, gradientboostingclassifier__n_estimators=100; total time=   0.4s\n",
      "[CV] END gradientboostingclassifier__max_depth=3, gradientboostingclassifier__min_samples_leaf=2, gradientboostingclassifier__min_samples_split=2, gradientboostingclassifier__n_estimators=100; total time=   0.4s\n",
      "[CV] END gradientboostingclassifier__max_depth=3, gradientboostingclassifier__min_samples_leaf=2, gradientboostingclassifier__min_samples_split=2, gradientboostingclassifier__n_estimators=100; total time=   0.4s\n",
      "[CV] END gradientboostingclassifier__max_depth=3, gradientboostingclassifier__min_samples_leaf=2, gradientboostingclassifier__min_samples_split=2, gradientboostingclassifier__n_estimators=200; total time=   0.8s\n",
      "[CV] END gradientboostingclassifier__max_depth=3, gradientboostingclassifier__min_samples_leaf=2, gradientboostingclassifier__min_samples_split=2, gradientboostingclassifier__n_estimators=200; total time=   0.8s\n",
      "[CV] END gradientboostingclassifier__max_depth=3, gradientboostingclassifier__min_samples_leaf=2, gradientboostingclassifier__min_samples_split=2, gradientboostingclassifier__n_estimators=200; total time=   0.8s\n",
      "[CV] END gradientboostingclassifier__max_depth=3, gradientboostingclassifier__min_samples_leaf=2, gradientboostingclassifier__min_samples_split=3, gradientboostingclassifier__n_estimators=50; total time=   0.2s\n",
      "[CV] END gradientboostingclassifier__max_depth=3, gradientboostingclassifier__min_samples_leaf=2, gradientboostingclassifier__min_samples_split=3, gradientboostingclassifier__n_estimators=50; total time=   0.2s\n",
      "[CV] END gradientboostingclassifier__max_depth=3, gradientboostingclassifier__min_samples_leaf=2, gradientboostingclassifier__min_samples_split=3, gradientboostingclassifier__n_estimators=50; total time=   0.2s\n",
      "[CV] END gradientboostingclassifier__max_depth=3, gradientboostingclassifier__min_samples_leaf=2, gradientboostingclassifier__min_samples_split=3, gradientboostingclassifier__n_estimators=100; total time=   0.4s\n",
      "[CV] END gradientboostingclassifier__max_depth=3, gradientboostingclassifier__min_samples_leaf=2, gradientboostingclassifier__min_samples_split=3, gradientboostingclassifier__n_estimators=100; total time=   0.4s\n",
      "[CV] END gradientboostingclassifier__max_depth=3, gradientboostingclassifier__min_samples_leaf=2, gradientboostingclassifier__min_samples_split=3, gradientboostingclassifier__n_estimators=100; total time=   0.4s\n",
      "[CV] END gradientboostingclassifier__max_depth=3, gradientboostingclassifier__min_samples_leaf=2, gradientboostingclassifier__min_samples_split=3, gradientboostingclassifier__n_estimators=200; total time=   0.9s\n",
      "[CV] END gradientboostingclassifier__max_depth=3, gradientboostingclassifier__min_samples_leaf=2, gradientboostingclassifier__min_samples_split=3, gradientboostingclassifier__n_estimators=200; total time=   0.9s\n",
      "[CV] END gradientboostingclassifier__max_depth=3, gradientboostingclassifier__min_samples_leaf=2, gradientboostingclassifier__min_samples_split=3, gradientboostingclassifier__n_estimators=200; total time=   0.8s\n",
      "[CV] END gradientboostingclassifier__max_depth=3, gradientboostingclassifier__min_samples_leaf=2, gradientboostingclassifier__min_samples_split=4, gradientboostingclassifier__n_estimators=50; total time=   0.2s\n",
      "[CV] END gradientboostingclassifier__max_depth=3, gradientboostingclassifier__min_samples_leaf=2, gradientboostingclassifier__min_samples_split=4, gradientboostingclassifier__n_estimators=50; total time=   0.2s\n",
      "[CV] END gradientboostingclassifier__max_depth=3, gradientboostingclassifier__min_samples_leaf=2, gradientboostingclassifier__min_samples_split=4, gradientboostingclassifier__n_estimators=50; total time=   0.2s\n",
      "[CV] END gradientboostingclassifier__max_depth=3, gradientboostingclassifier__min_samples_leaf=2, gradientboostingclassifier__min_samples_split=4, gradientboostingclassifier__n_estimators=100; total time=   0.5s\n",
      "[CV] END gradientboostingclassifier__max_depth=3, gradientboostingclassifier__min_samples_leaf=2, gradientboostingclassifier__min_samples_split=4, gradientboostingclassifier__n_estimators=100; total time=   0.4s\n",
      "[CV] END gradientboostingclassifier__max_depth=3, gradientboostingclassifier__min_samples_leaf=2, gradientboostingclassifier__min_samples_split=4, gradientboostingclassifier__n_estimators=100; total time=   0.4s\n",
      "[CV] END gradientboostingclassifier__max_depth=3, gradientboostingclassifier__min_samples_leaf=2, gradientboostingclassifier__min_samples_split=4, gradientboostingclassifier__n_estimators=200; total time=   0.8s\n",
      "[CV] END gradientboostingclassifier__max_depth=3, gradientboostingclassifier__min_samples_leaf=2, gradientboostingclassifier__min_samples_split=4, gradientboostingclassifier__n_estimators=200; total time=   0.8s\n",
      "[CV] END gradientboostingclassifier__max_depth=3, gradientboostingclassifier__min_samples_leaf=2, gradientboostingclassifier__min_samples_split=4, gradientboostingclassifier__n_estimators=200; total time=   0.8s\n",
      "[CV] END gradientboostingclassifier__max_depth=3, gradientboostingclassifier__min_samples_leaf=2, gradientboostingclassifier__min_samples_split=5, gradientboostingclassifier__n_estimators=50; total time=   0.2s\n",
      "[CV] END gradientboostingclassifier__max_depth=3, gradientboostingclassifier__min_samples_leaf=2, gradientboostingclassifier__min_samples_split=5, gradientboostingclassifier__n_estimators=50; total time=   0.2s\n",
      "[CV] END gradientboostingclassifier__max_depth=3, gradientboostingclassifier__min_samples_leaf=2, gradientboostingclassifier__min_samples_split=5, gradientboostingclassifier__n_estimators=50; total time=   0.2s\n",
      "[CV] END gradientboostingclassifier__max_depth=3, gradientboostingclassifier__min_samples_leaf=2, gradientboostingclassifier__min_samples_split=5, gradientboostingclassifier__n_estimators=100; total time=   0.4s\n",
      "[CV] END gradientboostingclassifier__max_depth=3, gradientboostingclassifier__min_samples_leaf=2, gradientboostingclassifier__min_samples_split=5, gradientboostingclassifier__n_estimators=100; total time=   0.4s\n",
      "[CV] END gradientboostingclassifier__max_depth=3, gradientboostingclassifier__min_samples_leaf=2, gradientboostingclassifier__min_samples_split=5, gradientboostingclassifier__n_estimators=100; total time=   0.4s\n",
      "[CV] END gradientboostingclassifier__max_depth=3, gradientboostingclassifier__min_samples_leaf=2, gradientboostingclassifier__min_samples_split=5, gradientboostingclassifier__n_estimators=200; total time=   0.8s\n",
      "[CV] END gradientboostingclassifier__max_depth=3, gradientboostingclassifier__min_samples_leaf=2, gradientboostingclassifier__min_samples_split=5, gradientboostingclassifier__n_estimators=200; total time=   0.8s\n",
      "[CV] END gradientboostingclassifier__max_depth=3, gradientboostingclassifier__min_samples_leaf=2, gradientboostingclassifier__min_samples_split=5, gradientboostingclassifier__n_estimators=200; total time=   0.8s\n",
      "[CV] END gradientboostingclassifier__max_depth=3, gradientboostingclassifier__min_samples_leaf=3, gradientboostingclassifier__min_samples_split=2, gradientboostingclassifier__n_estimators=50; total time=   0.2s\n",
      "[CV] END gradientboostingclassifier__max_depth=3, gradientboostingclassifier__min_samples_leaf=3, gradientboostingclassifier__min_samples_split=2, gradientboostingclassifier__n_estimators=50; total time=   0.2s\n",
      "[CV] END gradientboostingclassifier__max_depth=3, gradientboostingclassifier__min_samples_leaf=3, gradientboostingclassifier__min_samples_split=2, gradientboostingclassifier__n_estimators=50; total time=   0.2s\n",
      "[CV] END gradientboostingclassifier__max_depth=3, gradientboostingclassifier__min_samples_leaf=3, gradientboostingclassifier__min_samples_split=2, gradientboostingclassifier__n_estimators=100; total time=   0.4s\n",
      "[CV] END gradientboostingclassifier__max_depth=3, gradientboostingclassifier__min_samples_leaf=3, gradientboostingclassifier__min_samples_split=2, gradientboostingclassifier__n_estimators=100; total time=   0.4s\n",
      "[CV] END gradientboostingclassifier__max_depth=3, gradientboostingclassifier__min_samples_leaf=3, gradientboostingclassifier__min_samples_split=2, gradientboostingclassifier__n_estimators=100; total time=   0.4s\n"
     ]
    },
    {
     "name": "stdout",
     "output_type": "stream",
     "text": [
      "[CV] END gradientboostingclassifier__max_depth=3, gradientboostingclassifier__min_samples_leaf=3, gradientboostingclassifier__min_samples_split=2, gradientboostingclassifier__n_estimators=200; total time=   0.9s\n",
      "[CV] END gradientboostingclassifier__max_depth=3, gradientboostingclassifier__min_samples_leaf=3, gradientboostingclassifier__min_samples_split=2, gradientboostingclassifier__n_estimators=200; total time=   0.8s\n",
      "[CV] END gradientboostingclassifier__max_depth=3, gradientboostingclassifier__min_samples_leaf=3, gradientboostingclassifier__min_samples_split=2, gradientboostingclassifier__n_estimators=200; total time=   0.8s\n",
      "[CV] END gradientboostingclassifier__max_depth=3, gradientboostingclassifier__min_samples_leaf=3, gradientboostingclassifier__min_samples_split=3, gradientboostingclassifier__n_estimators=50; total time=   0.2s\n",
      "[CV] END gradientboostingclassifier__max_depth=3, gradientboostingclassifier__min_samples_leaf=3, gradientboostingclassifier__min_samples_split=3, gradientboostingclassifier__n_estimators=50; total time=   0.2s\n",
      "[CV] END gradientboostingclassifier__max_depth=3, gradientboostingclassifier__min_samples_leaf=3, gradientboostingclassifier__min_samples_split=3, gradientboostingclassifier__n_estimators=50; total time=   0.2s\n",
      "[CV] END gradientboostingclassifier__max_depth=3, gradientboostingclassifier__min_samples_leaf=3, gradientboostingclassifier__min_samples_split=3, gradientboostingclassifier__n_estimators=100; total time=   0.4s\n",
      "[CV] END gradientboostingclassifier__max_depth=3, gradientboostingclassifier__min_samples_leaf=3, gradientboostingclassifier__min_samples_split=3, gradientboostingclassifier__n_estimators=100; total time=   0.4s\n",
      "[CV] END gradientboostingclassifier__max_depth=3, gradientboostingclassifier__min_samples_leaf=3, gradientboostingclassifier__min_samples_split=3, gradientboostingclassifier__n_estimators=100; total time=   0.4s\n",
      "[CV] END gradientboostingclassifier__max_depth=3, gradientboostingclassifier__min_samples_leaf=3, gradientboostingclassifier__min_samples_split=3, gradientboostingclassifier__n_estimators=200; total time=   0.8s\n",
      "[CV] END gradientboostingclassifier__max_depth=3, gradientboostingclassifier__min_samples_leaf=3, gradientboostingclassifier__min_samples_split=3, gradientboostingclassifier__n_estimators=200; total time=   0.8s\n",
      "[CV] END gradientboostingclassifier__max_depth=3, gradientboostingclassifier__min_samples_leaf=3, gradientboostingclassifier__min_samples_split=3, gradientboostingclassifier__n_estimators=200; total time=   0.8s\n",
      "[CV] END gradientboostingclassifier__max_depth=3, gradientboostingclassifier__min_samples_leaf=3, gradientboostingclassifier__min_samples_split=4, gradientboostingclassifier__n_estimators=50; total time=   0.2s\n",
      "[CV] END gradientboostingclassifier__max_depth=3, gradientboostingclassifier__min_samples_leaf=3, gradientboostingclassifier__min_samples_split=4, gradientboostingclassifier__n_estimators=50; total time=   0.2s\n",
      "[CV] END gradientboostingclassifier__max_depth=3, gradientboostingclassifier__min_samples_leaf=3, gradientboostingclassifier__min_samples_split=4, gradientboostingclassifier__n_estimators=50; total time=   0.2s\n",
      "[CV] END gradientboostingclassifier__max_depth=3, gradientboostingclassifier__min_samples_leaf=3, gradientboostingclassifier__min_samples_split=4, gradientboostingclassifier__n_estimators=100; total time=   0.4s\n",
      "[CV] END gradientboostingclassifier__max_depth=3, gradientboostingclassifier__min_samples_leaf=3, gradientboostingclassifier__min_samples_split=4, gradientboostingclassifier__n_estimators=100; total time=   0.4s\n",
      "[CV] END gradientboostingclassifier__max_depth=3, gradientboostingclassifier__min_samples_leaf=3, gradientboostingclassifier__min_samples_split=4, gradientboostingclassifier__n_estimators=100; total time=   0.4s\n",
      "[CV] END gradientboostingclassifier__max_depth=3, gradientboostingclassifier__min_samples_leaf=3, gradientboostingclassifier__min_samples_split=4, gradientboostingclassifier__n_estimators=200; total time=   0.9s\n",
      "[CV] END gradientboostingclassifier__max_depth=3, gradientboostingclassifier__min_samples_leaf=3, gradientboostingclassifier__min_samples_split=4, gradientboostingclassifier__n_estimators=200; total time=   0.8s\n",
      "[CV] END gradientboostingclassifier__max_depth=3, gradientboostingclassifier__min_samples_leaf=3, gradientboostingclassifier__min_samples_split=4, gradientboostingclassifier__n_estimators=200; total time=   0.9s\n",
      "[CV] END gradientboostingclassifier__max_depth=3, gradientboostingclassifier__min_samples_leaf=3, gradientboostingclassifier__min_samples_split=5, gradientboostingclassifier__n_estimators=50; total time=   0.2s\n",
      "[CV] END gradientboostingclassifier__max_depth=3, gradientboostingclassifier__min_samples_leaf=3, gradientboostingclassifier__min_samples_split=5, gradientboostingclassifier__n_estimators=50; total time=   0.2s\n",
      "[CV] END gradientboostingclassifier__max_depth=3, gradientboostingclassifier__min_samples_leaf=3, gradientboostingclassifier__min_samples_split=5, gradientboostingclassifier__n_estimators=50; total time=   0.3s\n",
      "[CV] END gradientboostingclassifier__max_depth=3, gradientboostingclassifier__min_samples_leaf=3, gradientboostingclassifier__min_samples_split=5, gradientboostingclassifier__n_estimators=100; total time=   0.6s\n",
      "[CV] END gradientboostingclassifier__max_depth=3, gradientboostingclassifier__min_samples_leaf=3, gradientboostingclassifier__min_samples_split=5, gradientboostingclassifier__n_estimators=100; total time=   0.5s\n",
      "[CV] END gradientboostingclassifier__max_depth=3, gradientboostingclassifier__min_samples_leaf=3, gradientboostingclassifier__min_samples_split=5, gradientboostingclassifier__n_estimators=100; total time=   0.4s\n",
      "[CV] END gradientboostingclassifier__max_depth=3, gradientboostingclassifier__min_samples_leaf=3, gradientboostingclassifier__min_samples_split=5, gradientboostingclassifier__n_estimators=200; total time=   0.9s\n",
      "[CV] END gradientboostingclassifier__max_depth=3, gradientboostingclassifier__min_samples_leaf=3, gradientboostingclassifier__min_samples_split=5, gradientboostingclassifier__n_estimators=200; total time=   0.8s\n",
      "[CV] END gradientboostingclassifier__max_depth=3, gradientboostingclassifier__min_samples_leaf=3, gradientboostingclassifier__min_samples_split=5, gradientboostingclassifier__n_estimators=200; total time=   0.8s\n",
      "[CV] END gradientboostingclassifier__max_depth=4, gradientboostingclassifier__min_samples_leaf=1, gradientboostingclassifier__min_samples_split=2, gradientboostingclassifier__n_estimators=50; total time=   0.3s\n",
      "[CV] END gradientboostingclassifier__max_depth=4, gradientboostingclassifier__min_samples_leaf=1, gradientboostingclassifier__min_samples_split=2, gradientboostingclassifier__n_estimators=50; total time=   0.3s\n",
      "[CV] END gradientboostingclassifier__max_depth=4, gradientboostingclassifier__min_samples_leaf=1, gradientboostingclassifier__min_samples_split=2, gradientboostingclassifier__n_estimators=50; total time=   0.4s\n",
      "[CV] END gradientboostingclassifier__max_depth=4, gradientboostingclassifier__min_samples_leaf=1, gradientboostingclassifier__min_samples_split=2, gradientboostingclassifier__n_estimators=100; total time=   0.6s\n",
      "[CV] END gradientboostingclassifier__max_depth=4, gradientboostingclassifier__min_samples_leaf=1, gradientboostingclassifier__min_samples_split=2, gradientboostingclassifier__n_estimators=100; total time=   0.5s\n",
      "[CV] END gradientboostingclassifier__max_depth=4, gradientboostingclassifier__min_samples_leaf=1, gradientboostingclassifier__min_samples_split=2, gradientboostingclassifier__n_estimators=100; total time=   0.5s\n",
      "[CV] END gradientboostingclassifier__max_depth=4, gradientboostingclassifier__min_samples_leaf=1, gradientboostingclassifier__min_samples_split=2, gradientboostingclassifier__n_estimators=200; total time=   1.1s\n",
      "[CV] END gradientboostingclassifier__max_depth=4, gradientboostingclassifier__min_samples_leaf=1, gradientboostingclassifier__min_samples_split=2, gradientboostingclassifier__n_estimators=200; total time=   1.1s\n",
      "[CV] END gradientboostingclassifier__max_depth=4, gradientboostingclassifier__min_samples_leaf=1, gradientboostingclassifier__min_samples_split=2, gradientboostingclassifier__n_estimators=200; total time=   1.1s\n"
     ]
    },
    {
     "name": "stdout",
     "output_type": "stream",
     "text": [
      "[CV] END gradientboostingclassifier__max_depth=4, gradientboostingclassifier__min_samples_leaf=1, gradientboostingclassifier__min_samples_split=3, gradientboostingclassifier__n_estimators=50; total time=   0.3s\n",
      "[CV] END gradientboostingclassifier__max_depth=4, gradientboostingclassifier__min_samples_leaf=1, gradientboostingclassifier__min_samples_split=3, gradientboostingclassifier__n_estimators=50; total time=   0.3s\n",
      "[CV] END gradientboostingclassifier__max_depth=4, gradientboostingclassifier__min_samples_leaf=1, gradientboostingclassifier__min_samples_split=3, gradientboostingclassifier__n_estimators=50; total time=   0.3s\n",
      "[CV] END gradientboostingclassifier__max_depth=4, gradientboostingclassifier__min_samples_leaf=1, gradientboostingclassifier__min_samples_split=3, gradientboostingclassifier__n_estimators=100; total time=   0.7s\n",
      "[CV] END gradientboostingclassifier__max_depth=4, gradientboostingclassifier__min_samples_leaf=1, gradientboostingclassifier__min_samples_split=3, gradientboostingclassifier__n_estimators=100; total time=   0.5s\n",
      "[CV] END gradientboostingclassifier__max_depth=4, gradientboostingclassifier__min_samples_leaf=1, gradientboostingclassifier__min_samples_split=3, gradientboostingclassifier__n_estimators=100; total time=   0.6s\n",
      "[CV] END gradientboostingclassifier__max_depth=4, gradientboostingclassifier__min_samples_leaf=1, gradientboostingclassifier__min_samples_split=3, gradientboostingclassifier__n_estimators=200; total time=   1.2s\n",
      "[CV] END gradientboostingclassifier__max_depth=4, gradientboostingclassifier__min_samples_leaf=1, gradientboostingclassifier__min_samples_split=3, gradientboostingclassifier__n_estimators=200; total time=   1.1s\n",
      "[CV] END gradientboostingclassifier__max_depth=4, gradientboostingclassifier__min_samples_leaf=1, gradientboostingclassifier__min_samples_split=3, gradientboostingclassifier__n_estimators=200; total time=   1.3s\n",
      "[CV] END gradientboostingclassifier__max_depth=4, gradientboostingclassifier__min_samples_leaf=1, gradientboostingclassifier__min_samples_split=4, gradientboostingclassifier__n_estimators=50; total time=   0.3s\n",
      "[CV] END gradientboostingclassifier__max_depth=4, gradientboostingclassifier__min_samples_leaf=1, gradientboostingclassifier__min_samples_split=4, gradientboostingclassifier__n_estimators=50; total time=   0.3s\n",
      "[CV] END gradientboostingclassifier__max_depth=4, gradientboostingclassifier__min_samples_leaf=1, gradientboostingclassifier__min_samples_split=4, gradientboostingclassifier__n_estimators=50; total time=   0.3s\n",
      "[CV] END gradientboostingclassifier__max_depth=4, gradientboostingclassifier__min_samples_leaf=1, gradientboostingclassifier__min_samples_split=4, gradientboostingclassifier__n_estimators=100; total time=   0.6s\n",
      "[CV] END gradientboostingclassifier__max_depth=4, gradientboostingclassifier__min_samples_leaf=1, gradientboostingclassifier__min_samples_split=4, gradientboostingclassifier__n_estimators=100; total time=   0.6s\n",
      "[CV] END gradientboostingclassifier__max_depth=4, gradientboostingclassifier__min_samples_leaf=1, gradientboostingclassifier__min_samples_split=4, gradientboostingclassifier__n_estimators=100; total time=   0.6s\n",
      "[CV] END gradientboostingclassifier__max_depth=4, gradientboostingclassifier__min_samples_leaf=1, gradientboostingclassifier__min_samples_split=4, gradientboostingclassifier__n_estimators=200; total time=   1.2s\n",
      "[CV] END gradientboostingclassifier__max_depth=4, gradientboostingclassifier__min_samples_leaf=1, gradientboostingclassifier__min_samples_split=4, gradientboostingclassifier__n_estimators=200; total time=   1.2s\n",
      "[CV] END gradientboostingclassifier__max_depth=4, gradientboostingclassifier__min_samples_leaf=1, gradientboostingclassifier__min_samples_split=4, gradientboostingclassifier__n_estimators=200; total time=   1.2s\n",
      "[CV] END gradientboostingclassifier__max_depth=4, gradientboostingclassifier__min_samples_leaf=1, gradientboostingclassifier__min_samples_split=5, gradientboostingclassifier__n_estimators=50; total time=   0.3s\n",
      "[CV] END gradientboostingclassifier__max_depth=4, gradientboostingclassifier__min_samples_leaf=1, gradientboostingclassifier__min_samples_split=5, gradientboostingclassifier__n_estimators=50; total time=   0.3s\n",
      "[CV] END gradientboostingclassifier__max_depth=4, gradientboostingclassifier__min_samples_leaf=1, gradientboostingclassifier__min_samples_split=5, gradientboostingclassifier__n_estimators=50; total time=   0.3s\n",
      "[CV] END gradientboostingclassifier__max_depth=4, gradientboostingclassifier__min_samples_leaf=1, gradientboostingclassifier__min_samples_split=5, gradientboostingclassifier__n_estimators=100; total time=   0.6s\n",
      "[CV] END gradientboostingclassifier__max_depth=4, gradientboostingclassifier__min_samples_leaf=1, gradientboostingclassifier__min_samples_split=5, gradientboostingclassifier__n_estimators=100; total time=   0.5s\n",
      "[CV] END gradientboostingclassifier__max_depth=4, gradientboostingclassifier__min_samples_leaf=1, gradientboostingclassifier__min_samples_split=5, gradientboostingclassifier__n_estimators=100; total time=   0.5s\n",
      "[CV] END gradientboostingclassifier__max_depth=4, gradientboostingclassifier__min_samples_leaf=1, gradientboostingclassifier__min_samples_split=5, gradientboostingclassifier__n_estimators=200; total time=   1.1s\n",
      "[CV] END gradientboostingclassifier__max_depth=4, gradientboostingclassifier__min_samples_leaf=1, gradientboostingclassifier__min_samples_split=5, gradientboostingclassifier__n_estimators=200; total time=   1.1s\n",
      "[CV] END gradientboostingclassifier__max_depth=4, gradientboostingclassifier__min_samples_leaf=1, gradientboostingclassifier__min_samples_split=5, gradientboostingclassifier__n_estimators=200; total time=   1.0s\n",
      "[CV] END gradientboostingclassifier__max_depth=4, gradientboostingclassifier__min_samples_leaf=2, gradientboostingclassifier__min_samples_split=2, gradientboostingclassifier__n_estimators=50; total time=   0.3s\n",
      "[CV] END gradientboostingclassifier__max_depth=4, gradientboostingclassifier__min_samples_leaf=2, gradientboostingclassifier__min_samples_split=2, gradientboostingclassifier__n_estimators=50; total time=   0.3s\n",
      "[CV] END gradientboostingclassifier__max_depth=4, gradientboostingclassifier__min_samples_leaf=2, gradientboostingclassifier__min_samples_split=2, gradientboostingclassifier__n_estimators=50; total time=   0.3s\n",
      "[CV] END gradientboostingclassifier__max_depth=4, gradientboostingclassifier__min_samples_leaf=2, gradientboostingclassifier__min_samples_split=2, gradientboostingclassifier__n_estimators=100; total time=   0.6s\n",
      "[CV] END gradientboostingclassifier__max_depth=4, gradientboostingclassifier__min_samples_leaf=2, gradientboostingclassifier__min_samples_split=2, gradientboostingclassifier__n_estimators=100; total time=   0.6s\n",
      "[CV] END gradientboostingclassifier__max_depth=4, gradientboostingclassifier__min_samples_leaf=2, gradientboostingclassifier__min_samples_split=2, gradientboostingclassifier__n_estimators=100; total time=   0.6s\n",
      "[CV] END gradientboostingclassifier__max_depth=4, gradientboostingclassifier__min_samples_leaf=2, gradientboostingclassifier__min_samples_split=2, gradientboostingclassifier__n_estimators=200; total time=   1.2s\n",
      "[CV] END gradientboostingclassifier__max_depth=4, gradientboostingclassifier__min_samples_leaf=2, gradientboostingclassifier__min_samples_split=2, gradientboostingclassifier__n_estimators=200; total time=   1.1s\n",
      "[CV] END gradientboostingclassifier__max_depth=4, gradientboostingclassifier__min_samples_leaf=2, gradientboostingclassifier__min_samples_split=2, gradientboostingclassifier__n_estimators=200; total time=   1.1s\n",
      "[CV] END gradientboostingclassifier__max_depth=4, gradientboostingclassifier__min_samples_leaf=2, gradientboostingclassifier__min_samples_split=3, gradientboostingclassifier__n_estimators=50; total time=   0.3s\n",
      "[CV] END gradientboostingclassifier__max_depth=4, gradientboostingclassifier__min_samples_leaf=2, gradientboostingclassifier__min_samples_split=3, gradientboostingclassifier__n_estimators=50; total time=   0.3s\n",
      "[CV] END gradientboostingclassifier__max_depth=4, gradientboostingclassifier__min_samples_leaf=2, gradientboostingclassifier__min_samples_split=3, gradientboostingclassifier__n_estimators=50; total time=   0.3s\n"
     ]
    },
    {
     "name": "stdout",
     "output_type": "stream",
     "text": [
      "[CV] END gradientboostingclassifier__max_depth=4, gradientboostingclassifier__min_samples_leaf=2, gradientboostingclassifier__min_samples_split=3, gradientboostingclassifier__n_estimators=100; total time=   0.7s\n",
      "[CV] END gradientboostingclassifier__max_depth=4, gradientboostingclassifier__min_samples_leaf=2, gradientboostingclassifier__min_samples_split=3, gradientboostingclassifier__n_estimators=100; total time=   0.6s\n",
      "[CV] END gradientboostingclassifier__max_depth=4, gradientboostingclassifier__min_samples_leaf=2, gradientboostingclassifier__min_samples_split=3, gradientboostingclassifier__n_estimators=100; total time=   0.5s\n",
      "[CV] END gradientboostingclassifier__max_depth=4, gradientboostingclassifier__min_samples_leaf=2, gradientboostingclassifier__min_samples_split=3, gradientboostingclassifier__n_estimators=200; total time=   1.1s\n",
      "[CV] END gradientboostingclassifier__max_depth=4, gradientboostingclassifier__min_samples_leaf=2, gradientboostingclassifier__min_samples_split=3, gradientboostingclassifier__n_estimators=200; total time=   1.1s\n",
      "[CV] END gradientboostingclassifier__max_depth=4, gradientboostingclassifier__min_samples_leaf=2, gradientboostingclassifier__min_samples_split=3, gradientboostingclassifier__n_estimators=200; total time=   1.2s\n",
      "[CV] END gradientboostingclassifier__max_depth=4, gradientboostingclassifier__min_samples_leaf=2, gradientboostingclassifier__min_samples_split=4, gradientboostingclassifier__n_estimators=50; total time=   0.3s\n",
      "[CV] END gradientboostingclassifier__max_depth=4, gradientboostingclassifier__min_samples_leaf=2, gradientboostingclassifier__min_samples_split=4, gradientboostingclassifier__n_estimators=50; total time=   0.4s\n",
      "[CV] END gradientboostingclassifier__max_depth=4, gradientboostingclassifier__min_samples_leaf=2, gradientboostingclassifier__min_samples_split=4, gradientboostingclassifier__n_estimators=50; total time=   0.3s\n",
      "[CV] END gradientboostingclassifier__max_depth=4, gradientboostingclassifier__min_samples_leaf=2, gradientboostingclassifier__min_samples_split=4, gradientboostingclassifier__n_estimators=100; total time=   0.6s\n",
      "[CV] END gradientboostingclassifier__max_depth=4, gradientboostingclassifier__min_samples_leaf=2, gradientboostingclassifier__min_samples_split=4, gradientboostingclassifier__n_estimators=100; total time=   0.6s\n",
      "[CV] END gradientboostingclassifier__max_depth=4, gradientboostingclassifier__min_samples_leaf=2, gradientboostingclassifier__min_samples_split=4, gradientboostingclassifier__n_estimators=100; total time=   0.6s\n",
      "[CV] END gradientboostingclassifier__max_depth=4, gradientboostingclassifier__min_samples_leaf=2, gradientboostingclassifier__min_samples_split=4, gradientboostingclassifier__n_estimators=200; total time=   1.5s\n",
      "[CV] END gradientboostingclassifier__max_depth=4, gradientboostingclassifier__min_samples_leaf=2, gradientboostingclassifier__min_samples_split=4, gradientboostingclassifier__n_estimators=200; total time=   1.3s\n",
      "[CV] END gradientboostingclassifier__max_depth=4, gradientboostingclassifier__min_samples_leaf=2, gradientboostingclassifier__min_samples_split=4, gradientboostingclassifier__n_estimators=200; total time=   1.2s\n",
      "[CV] END gradientboostingclassifier__max_depth=4, gradientboostingclassifier__min_samples_leaf=2, gradientboostingclassifier__min_samples_split=5, gradientboostingclassifier__n_estimators=50; total time=   0.3s\n",
      "[CV] END gradientboostingclassifier__max_depth=4, gradientboostingclassifier__min_samples_leaf=2, gradientboostingclassifier__min_samples_split=5, gradientboostingclassifier__n_estimators=50; total time=   0.3s\n",
      "[CV] END gradientboostingclassifier__max_depth=4, gradientboostingclassifier__min_samples_leaf=2, gradientboostingclassifier__min_samples_split=5, gradientboostingclassifier__n_estimators=50; total time=   0.3s\n",
      "[CV] END gradientboostingclassifier__max_depth=4, gradientboostingclassifier__min_samples_leaf=2, gradientboostingclassifier__min_samples_split=5, gradientboostingclassifier__n_estimators=100; total time=   0.6s\n",
      "[CV] END gradientboostingclassifier__max_depth=4, gradientboostingclassifier__min_samples_leaf=2, gradientboostingclassifier__min_samples_split=5, gradientboostingclassifier__n_estimators=100; total time=   0.5s\n",
      "[CV] END gradientboostingclassifier__max_depth=4, gradientboostingclassifier__min_samples_leaf=2, gradientboostingclassifier__min_samples_split=5, gradientboostingclassifier__n_estimators=100; total time=   0.7s\n",
      "[CV] END gradientboostingclassifier__max_depth=4, gradientboostingclassifier__min_samples_leaf=2, gradientboostingclassifier__min_samples_split=5, gradientboostingclassifier__n_estimators=200; total time=   1.3s\n",
      "[CV] END gradientboostingclassifier__max_depth=4, gradientboostingclassifier__min_samples_leaf=2, gradientboostingclassifier__min_samples_split=5, gradientboostingclassifier__n_estimators=200; total time=   1.1s\n",
      "[CV] END gradientboostingclassifier__max_depth=4, gradientboostingclassifier__min_samples_leaf=2, gradientboostingclassifier__min_samples_split=5, gradientboostingclassifier__n_estimators=200; total time=   1.2s\n",
      "[CV] END gradientboostingclassifier__max_depth=4, gradientboostingclassifier__min_samples_leaf=3, gradientboostingclassifier__min_samples_split=2, gradientboostingclassifier__n_estimators=50; total time=   0.3s\n",
      "[CV] END gradientboostingclassifier__max_depth=4, gradientboostingclassifier__min_samples_leaf=3, gradientboostingclassifier__min_samples_split=2, gradientboostingclassifier__n_estimators=50; total time=   0.3s\n",
      "[CV] END gradientboostingclassifier__max_depth=4, gradientboostingclassifier__min_samples_leaf=3, gradientboostingclassifier__min_samples_split=2, gradientboostingclassifier__n_estimators=50; total time=   0.4s\n",
      "[CV] END gradientboostingclassifier__max_depth=4, gradientboostingclassifier__min_samples_leaf=3, gradientboostingclassifier__min_samples_split=2, gradientboostingclassifier__n_estimators=100; total time=   0.7s\n",
      "[CV] END gradientboostingclassifier__max_depth=4, gradientboostingclassifier__min_samples_leaf=3, gradientboostingclassifier__min_samples_split=2, gradientboostingclassifier__n_estimators=100; total time=   0.6s\n",
      "[CV] END gradientboostingclassifier__max_depth=4, gradientboostingclassifier__min_samples_leaf=3, gradientboostingclassifier__min_samples_split=2, gradientboostingclassifier__n_estimators=100; total time=   0.6s\n",
      "[CV] END gradientboostingclassifier__max_depth=4, gradientboostingclassifier__min_samples_leaf=3, gradientboostingclassifier__min_samples_split=2, gradientboostingclassifier__n_estimators=200; total time=   1.2s\n",
      "[CV] END gradientboostingclassifier__max_depth=4, gradientboostingclassifier__min_samples_leaf=3, gradientboostingclassifier__min_samples_split=2, gradientboostingclassifier__n_estimators=200; total time=   1.2s\n",
      "[CV] END gradientboostingclassifier__max_depth=4, gradientboostingclassifier__min_samples_leaf=3, gradientboostingclassifier__min_samples_split=2, gradientboostingclassifier__n_estimators=200; total time=   1.4s\n",
      "[CV] END gradientboostingclassifier__max_depth=4, gradientboostingclassifier__min_samples_leaf=3, gradientboostingclassifier__min_samples_split=3, gradientboostingclassifier__n_estimators=50; total time=   0.3s\n",
      "[CV] END gradientboostingclassifier__max_depth=4, gradientboostingclassifier__min_samples_leaf=3, gradientboostingclassifier__min_samples_split=3, gradientboostingclassifier__n_estimators=50; total time=   0.3s\n",
      "[CV] END gradientboostingclassifier__max_depth=4, gradientboostingclassifier__min_samples_leaf=3, gradientboostingclassifier__min_samples_split=3, gradientboostingclassifier__n_estimators=50; total time=   0.3s\n",
      "[CV] END gradientboostingclassifier__max_depth=4, gradientboostingclassifier__min_samples_leaf=3, gradientboostingclassifier__min_samples_split=3, gradientboostingclassifier__n_estimators=100; total time=   0.7s\n",
      "[CV] END gradientboostingclassifier__max_depth=4, gradientboostingclassifier__min_samples_leaf=3, gradientboostingclassifier__min_samples_split=3, gradientboostingclassifier__n_estimators=100; total time=   0.6s\n",
      "[CV] END gradientboostingclassifier__max_depth=4, gradientboostingclassifier__min_samples_leaf=3, gradientboostingclassifier__min_samples_split=3, gradientboostingclassifier__n_estimators=100; total time=   0.6s\n"
     ]
    },
    {
     "name": "stdout",
     "output_type": "stream",
     "text": [
      "[CV] END gradientboostingclassifier__max_depth=4, gradientboostingclassifier__min_samples_leaf=3, gradientboostingclassifier__min_samples_split=3, gradientboostingclassifier__n_estimators=200; total time=   1.2s\n",
      "[CV] END gradientboostingclassifier__max_depth=4, gradientboostingclassifier__min_samples_leaf=3, gradientboostingclassifier__min_samples_split=3, gradientboostingclassifier__n_estimators=200; total time=   1.2s\n",
      "[CV] END gradientboostingclassifier__max_depth=4, gradientboostingclassifier__min_samples_leaf=3, gradientboostingclassifier__min_samples_split=3, gradientboostingclassifier__n_estimators=200; total time=   1.1s\n",
      "[CV] END gradientboostingclassifier__max_depth=4, gradientboostingclassifier__min_samples_leaf=3, gradientboostingclassifier__min_samples_split=4, gradientboostingclassifier__n_estimators=50; total time=   0.3s\n",
      "[CV] END gradientboostingclassifier__max_depth=4, gradientboostingclassifier__min_samples_leaf=3, gradientboostingclassifier__min_samples_split=4, gradientboostingclassifier__n_estimators=50; total time=   0.3s\n",
      "[CV] END gradientboostingclassifier__max_depth=4, gradientboostingclassifier__min_samples_leaf=3, gradientboostingclassifier__min_samples_split=4, gradientboostingclassifier__n_estimators=50; total time=   0.3s\n",
      "[CV] END gradientboostingclassifier__max_depth=4, gradientboostingclassifier__min_samples_leaf=3, gradientboostingclassifier__min_samples_split=4, gradientboostingclassifier__n_estimators=100; total time=   0.6s\n",
      "[CV] END gradientboostingclassifier__max_depth=4, gradientboostingclassifier__min_samples_leaf=3, gradientboostingclassifier__min_samples_split=4, gradientboostingclassifier__n_estimators=100; total time=   0.6s\n",
      "[CV] END gradientboostingclassifier__max_depth=4, gradientboostingclassifier__min_samples_leaf=3, gradientboostingclassifier__min_samples_split=4, gradientboostingclassifier__n_estimators=100; total time=   0.5s\n",
      "[CV] END gradientboostingclassifier__max_depth=4, gradientboostingclassifier__min_samples_leaf=3, gradientboostingclassifier__min_samples_split=4, gradientboostingclassifier__n_estimators=200; total time=   1.1s\n",
      "[CV] END gradientboostingclassifier__max_depth=4, gradientboostingclassifier__min_samples_leaf=3, gradientboostingclassifier__min_samples_split=4, gradientboostingclassifier__n_estimators=200; total time=   1.1s\n",
      "[CV] END gradientboostingclassifier__max_depth=4, gradientboostingclassifier__min_samples_leaf=3, gradientboostingclassifier__min_samples_split=4, gradientboostingclassifier__n_estimators=200; total time=   1.1s\n",
      "[CV] END gradientboostingclassifier__max_depth=4, gradientboostingclassifier__min_samples_leaf=3, gradientboostingclassifier__min_samples_split=5, gradientboostingclassifier__n_estimators=50; total time=   0.3s\n",
      "[CV] END gradientboostingclassifier__max_depth=4, gradientboostingclassifier__min_samples_leaf=3, gradientboostingclassifier__min_samples_split=5, gradientboostingclassifier__n_estimators=50; total time=   0.3s\n",
      "[CV] END gradientboostingclassifier__max_depth=4, gradientboostingclassifier__min_samples_leaf=3, gradientboostingclassifier__min_samples_split=5, gradientboostingclassifier__n_estimators=50; total time=   0.3s\n",
      "[CV] END gradientboostingclassifier__max_depth=4, gradientboostingclassifier__min_samples_leaf=3, gradientboostingclassifier__min_samples_split=5, gradientboostingclassifier__n_estimators=100; total time=   0.6s\n",
      "[CV] END gradientboostingclassifier__max_depth=4, gradientboostingclassifier__min_samples_leaf=3, gradientboostingclassifier__min_samples_split=5, gradientboostingclassifier__n_estimators=100; total time=   0.6s\n",
      "[CV] END gradientboostingclassifier__max_depth=4, gradientboostingclassifier__min_samples_leaf=3, gradientboostingclassifier__min_samples_split=5, gradientboostingclassifier__n_estimators=100; total time=   0.6s\n",
      "[CV] END gradientboostingclassifier__max_depth=4, gradientboostingclassifier__min_samples_leaf=3, gradientboostingclassifier__min_samples_split=5, gradientboostingclassifier__n_estimators=200; total time=   1.2s\n",
      "[CV] END gradientboostingclassifier__max_depth=4, gradientboostingclassifier__min_samples_leaf=3, gradientboostingclassifier__min_samples_split=5, gradientboostingclassifier__n_estimators=200; total time=   1.2s\n",
      "[CV] END gradientboostingclassifier__max_depth=4, gradientboostingclassifier__min_samples_leaf=3, gradientboostingclassifier__min_samples_split=5, gradientboostingclassifier__n_estimators=200; total time=   1.1s\n",
      "[CV] END gradientboostingclassifier__max_depth=5, gradientboostingclassifier__min_samples_leaf=1, gradientboostingclassifier__min_samples_split=2, gradientboostingclassifier__n_estimators=50; total time=   0.4s\n",
      "[CV] END gradientboostingclassifier__max_depth=5, gradientboostingclassifier__min_samples_leaf=1, gradientboostingclassifier__min_samples_split=2, gradientboostingclassifier__n_estimators=50; total time=   0.4s\n",
      "[CV] END gradientboostingclassifier__max_depth=5, gradientboostingclassifier__min_samples_leaf=1, gradientboostingclassifier__min_samples_split=2, gradientboostingclassifier__n_estimators=50; total time=   0.4s\n",
      "[CV] END gradientboostingclassifier__max_depth=5, gradientboostingclassifier__min_samples_leaf=1, gradientboostingclassifier__min_samples_split=2, gradientboostingclassifier__n_estimators=100; total time=   0.8s\n",
      "[CV] END gradientboostingclassifier__max_depth=5, gradientboostingclassifier__min_samples_leaf=1, gradientboostingclassifier__min_samples_split=2, gradientboostingclassifier__n_estimators=100; total time=   0.7s\n",
      "[CV] END gradientboostingclassifier__max_depth=5, gradientboostingclassifier__min_samples_leaf=1, gradientboostingclassifier__min_samples_split=2, gradientboostingclassifier__n_estimators=100; total time=   0.8s\n",
      "[CV] END gradientboostingclassifier__max_depth=5, gradientboostingclassifier__min_samples_leaf=1, gradientboostingclassifier__min_samples_split=2, gradientboostingclassifier__n_estimators=200; total time=   1.5s\n",
      "[CV] END gradientboostingclassifier__max_depth=5, gradientboostingclassifier__min_samples_leaf=1, gradientboostingclassifier__min_samples_split=2, gradientboostingclassifier__n_estimators=200; total time=   1.4s\n",
      "[CV] END gradientboostingclassifier__max_depth=5, gradientboostingclassifier__min_samples_leaf=1, gradientboostingclassifier__min_samples_split=2, gradientboostingclassifier__n_estimators=200; total time=   1.4s\n",
      "[CV] END gradientboostingclassifier__max_depth=5, gradientboostingclassifier__min_samples_leaf=1, gradientboostingclassifier__min_samples_split=3, gradientboostingclassifier__n_estimators=50; total time=   0.4s\n",
      "[CV] END gradientboostingclassifier__max_depth=5, gradientboostingclassifier__min_samples_leaf=1, gradientboostingclassifier__min_samples_split=3, gradientboostingclassifier__n_estimators=50; total time=   0.4s\n",
      "[CV] END gradientboostingclassifier__max_depth=5, gradientboostingclassifier__min_samples_leaf=1, gradientboostingclassifier__min_samples_split=3, gradientboostingclassifier__n_estimators=50; total time=   0.4s\n",
      "[CV] END gradientboostingclassifier__max_depth=5, gradientboostingclassifier__min_samples_leaf=1, gradientboostingclassifier__min_samples_split=3, gradientboostingclassifier__n_estimators=100; total time=   0.7s\n",
      "[CV] END gradientboostingclassifier__max_depth=5, gradientboostingclassifier__min_samples_leaf=1, gradientboostingclassifier__min_samples_split=3, gradientboostingclassifier__n_estimators=100; total time=   0.7s\n",
      "[CV] END gradientboostingclassifier__max_depth=5, gradientboostingclassifier__min_samples_leaf=1, gradientboostingclassifier__min_samples_split=3, gradientboostingclassifier__n_estimators=100; total time=   0.7s\n",
      "[CV] END gradientboostingclassifier__max_depth=5, gradientboostingclassifier__min_samples_leaf=1, gradientboostingclassifier__min_samples_split=3, gradientboostingclassifier__n_estimators=200; total time=   1.4s\n",
      "[CV] END gradientboostingclassifier__max_depth=5, gradientboostingclassifier__min_samples_leaf=1, gradientboostingclassifier__min_samples_split=3, gradientboostingclassifier__n_estimators=200; total time=   1.3s\n",
      "[CV] END gradientboostingclassifier__max_depth=5, gradientboostingclassifier__min_samples_leaf=1, gradientboostingclassifier__min_samples_split=3, gradientboostingclassifier__n_estimators=200; total time=   1.3s\n"
     ]
    },
    {
     "name": "stdout",
     "output_type": "stream",
     "text": [
      "[CV] END gradientboostingclassifier__max_depth=5, gradientboostingclassifier__min_samples_leaf=1, gradientboostingclassifier__min_samples_split=4, gradientboostingclassifier__n_estimators=50; total time=   0.3s\n",
      "[CV] END gradientboostingclassifier__max_depth=5, gradientboostingclassifier__min_samples_leaf=1, gradientboostingclassifier__min_samples_split=4, gradientboostingclassifier__n_estimators=50; total time=   0.3s\n",
      "[CV] END gradientboostingclassifier__max_depth=5, gradientboostingclassifier__min_samples_leaf=1, gradientboostingclassifier__min_samples_split=4, gradientboostingclassifier__n_estimators=50; total time=   0.3s\n",
      "[CV] END gradientboostingclassifier__max_depth=5, gradientboostingclassifier__min_samples_leaf=1, gradientboostingclassifier__min_samples_split=4, gradientboostingclassifier__n_estimators=100; total time=   0.7s\n",
      "[CV] END gradientboostingclassifier__max_depth=5, gradientboostingclassifier__min_samples_leaf=1, gradientboostingclassifier__min_samples_split=4, gradientboostingclassifier__n_estimators=100; total time=   0.7s\n",
      "[CV] END gradientboostingclassifier__max_depth=5, gradientboostingclassifier__min_samples_leaf=1, gradientboostingclassifier__min_samples_split=4, gradientboostingclassifier__n_estimators=100; total time=   0.7s\n",
      "[CV] END gradientboostingclassifier__max_depth=5, gradientboostingclassifier__min_samples_leaf=1, gradientboostingclassifier__min_samples_split=4, gradientboostingclassifier__n_estimators=200; total time=   1.5s\n",
      "[CV] END gradientboostingclassifier__max_depth=5, gradientboostingclassifier__min_samples_leaf=1, gradientboostingclassifier__min_samples_split=4, gradientboostingclassifier__n_estimators=200; total time=   1.3s\n",
      "[CV] END gradientboostingclassifier__max_depth=5, gradientboostingclassifier__min_samples_leaf=1, gradientboostingclassifier__min_samples_split=4, gradientboostingclassifier__n_estimators=200; total time=   1.3s\n",
      "[CV] END gradientboostingclassifier__max_depth=5, gradientboostingclassifier__min_samples_leaf=1, gradientboostingclassifier__min_samples_split=5, gradientboostingclassifier__n_estimators=50; total time=   0.3s\n",
      "[CV] END gradientboostingclassifier__max_depth=5, gradientboostingclassifier__min_samples_leaf=1, gradientboostingclassifier__min_samples_split=5, gradientboostingclassifier__n_estimators=50; total time=   0.3s\n",
      "[CV] END gradientboostingclassifier__max_depth=5, gradientboostingclassifier__min_samples_leaf=1, gradientboostingclassifier__min_samples_split=5, gradientboostingclassifier__n_estimators=50; total time=   0.3s\n",
      "[CV] END gradientboostingclassifier__max_depth=5, gradientboostingclassifier__min_samples_leaf=1, gradientboostingclassifier__min_samples_split=5, gradientboostingclassifier__n_estimators=100; total time=   0.7s\n",
      "[CV] END gradientboostingclassifier__max_depth=5, gradientboostingclassifier__min_samples_leaf=1, gradientboostingclassifier__min_samples_split=5, gradientboostingclassifier__n_estimators=100; total time=   0.7s\n",
      "[CV] END gradientboostingclassifier__max_depth=5, gradientboostingclassifier__min_samples_leaf=1, gradientboostingclassifier__min_samples_split=5, gradientboostingclassifier__n_estimators=100; total time=   0.7s\n",
      "[CV] END gradientboostingclassifier__max_depth=5, gradientboostingclassifier__min_samples_leaf=1, gradientboostingclassifier__min_samples_split=5, gradientboostingclassifier__n_estimators=200; total time=   1.4s\n",
      "[CV] END gradientboostingclassifier__max_depth=5, gradientboostingclassifier__min_samples_leaf=1, gradientboostingclassifier__min_samples_split=5, gradientboostingclassifier__n_estimators=200; total time=   1.3s\n",
      "[CV] END gradientboostingclassifier__max_depth=5, gradientboostingclassifier__min_samples_leaf=1, gradientboostingclassifier__min_samples_split=5, gradientboostingclassifier__n_estimators=200; total time=   1.3s\n",
      "[CV] END gradientboostingclassifier__max_depth=5, gradientboostingclassifier__min_samples_leaf=2, gradientboostingclassifier__min_samples_split=2, gradientboostingclassifier__n_estimators=50; total time=   0.3s\n",
      "[CV] END gradientboostingclassifier__max_depth=5, gradientboostingclassifier__min_samples_leaf=2, gradientboostingclassifier__min_samples_split=2, gradientboostingclassifier__n_estimators=50; total time=   0.3s\n",
      "[CV] END gradientboostingclassifier__max_depth=5, gradientboostingclassifier__min_samples_leaf=2, gradientboostingclassifier__min_samples_split=2, gradientboostingclassifier__n_estimators=50; total time=   0.3s\n",
      "[CV] END gradientboostingclassifier__max_depth=5, gradientboostingclassifier__min_samples_leaf=2, gradientboostingclassifier__min_samples_split=2, gradientboostingclassifier__n_estimators=100; total time=   0.7s\n",
      "[CV] END gradientboostingclassifier__max_depth=5, gradientboostingclassifier__min_samples_leaf=2, gradientboostingclassifier__min_samples_split=2, gradientboostingclassifier__n_estimators=100; total time=   0.7s\n",
      "[CV] END gradientboostingclassifier__max_depth=5, gradientboostingclassifier__min_samples_leaf=2, gradientboostingclassifier__min_samples_split=2, gradientboostingclassifier__n_estimators=100; total time=   0.7s\n",
      "[CV] END gradientboostingclassifier__max_depth=5, gradientboostingclassifier__min_samples_leaf=2, gradientboostingclassifier__min_samples_split=2, gradientboostingclassifier__n_estimators=200; total time=   1.4s\n",
      "[CV] END gradientboostingclassifier__max_depth=5, gradientboostingclassifier__min_samples_leaf=2, gradientboostingclassifier__min_samples_split=2, gradientboostingclassifier__n_estimators=200; total time=   1.3s\n",
      "[CV] END gradientboostingclassifier__max_depth=5, gradientboostingclassifier__min_samples_leaf=2, gradientboostingclassifier__min_samples_split=2, gradientboostingclassifier__n_estimators=200; total time=   1.3s\n",
      "[CV] END gradientboostingclassifier__max_depth=5, gradientboostingclassifier__min_samples_leaf=2, gradientboostingclassifier__min_samples_split=3, gradientboostingclassifier__n_estimators=50; total time=   0.3s\n",
      "[CV] END gradientboostingclassifier__max_depth=5, gradientboostingclassifier__min_samples_leaf=2, gradientboostingclassifier__min_samples_split=3, gradientboostingclassifier__n_estimators=50; total time=   0.3s\n",
      "[CV] END gradientboostingclassifier__max_depth=5, gradientboostingclassifier__min_samples_leaf=2, gradientboostingclassifier__min_samples_split=3, gradientboostingclassifier__n_estimators=50; total time=   0.3s\n",
      "[CV] END gradientboostingclassifier__max_depth=5, gradientboostingclassifier__min_samples_leaf=2, gradientboostingclassifier__min_samples_split=3, gradientboostingclassifier__n_estimators=100; total time=   0.7s\n",
      "[CV] END gradientboostingclassifier__max_depth=5, gradientboostingclassifier__min_samples_leaf=2, gradientboostingclassifier__min_samples_split=3, gradientboostingclassifier__n_estimators=100; total time=   0.7s\n",
      "[CV] END gradientboostingclassifier__max_depth=5, gradientboostingclassifier__min_samples_leaf=2, gradientboostingclassifier__min_samples_split=3, gradientboostingclassifier__n_estimators=100; total time=   0.7s\n",
      "[CV] END gradientboostingclassifier__max_depth=5, gradientboostingclassifier__min_samples_leaf=2, gradientboostingclassifier__min_samples_split=3, gradientboostingclassifier__n_estimators=200; total time=   1.4s\n",
      "[CV] END gradientboostingclassifier__max_depth=5, gradientboostingclassifier__min_samples_leaf=2, gradientboostingclassifier__min_samples_split=3, gradientboostingclassifier__n_estimators=200; total time=   1.3s\n",
      "[CV] END gradientboostingclassifier__max_depth=5, gradientboostingclassifier__min_samples_leaf=2, gradientboostingclassifier__min_samples_split=3, gradientboostingclassifier__n_estimators=200; total time=   1.3s\n",
      "[CV] END gradientboostingclassifier__max_depth=5, gradientboostingclassifier__min_samples_leaf=2, gradientboostingclassifier__min_samples_split=4, gradientboostingclassifier__n_estimators=50; total time=   0.3s\n",
      "[CV] END gradientboostingclassifier__max_depth=5, gradientboostingclassifier__min_samples_leaf=2, gradientboostingclassifier__min_samples_split=4, gradientboostingclassifier__n_estimators=50; total time=   0.3s\n",
      "[CV] END gradientboostingclassifier__max_depth=5, gradientboostingclassifier__min_samples_leaf=2, gradientboostingclassifier__min_samples_split=4, gradientboostingclassifier__n_estimators=50; total time=   0.3s\n"
     ]
    },
    {
     "name": "stdout",
     "output_type": "stream",
     "text": [
      "[CV] END gradientboostingclassifier__max_depth=5, gradientboostingclassifier__min_samples_leaf=2, gradientboostingclassifier__min_samples_split=4, gradientboostingclassifier__n_estimators=100; total time=   0.7s\n",
      "[CV] END gradientboostingclassifier__max_depth=5, gradientboostingclassifier__min_samples_leaf=2, gradientboostingclassifier__min_samples_split=4, gradientboostingclassifier__n_estimators=100; total time=   0.7s\n",
      "[CV] END gradientboostingclassifier__max_depth=5, gradientboostingclassifier__min_samples_leaf=2, gradientboostingclassifier__min_samples_split=4, gradientboostingclassifier__n_estimators=100; total time=   0.7s\n",
      "[CV] END gradientboostingclassifier__max_depth=5, gradientboostingclassifier__min_samples_leaf=2, gradientboostingclassifier__min_samples_split=4, gradientboostingclassifier__n_estimators=200; total time=   1.4s\n",
      "[CV] END gradientboostingclassifier__max_depth=5, gradientboostingclassifier__min_samples_leaf=2, gradientboostingclassifier__min_samples_split=4, gradientboostingclassifier__n_estimators=200; total time=   1.3s\n",
      "[CV] END gradientboostingclassifier__max_depth=5, gradientboostingclassifier__min_samples_leaf=2, gradientboostingclassifier__min_samples_split=4, gradientboostingclassifier__n_estimators=200; total time=   1.3s\n",
      "[CV] END gradientboostingclassifier__max_depth=5, gradientboostingclassifier__min_samples_leaf=2, gradientboostingclassifier__min_samples_split=5, gradientboostingclassifier__n_estimators=50; total time=   0.3s\n",
      "[CV] END gradientboostingclassifier__max_depth=5, gradientboostingclassifier__min_samples_leaf=2, gradientboostingclassifier__min_samples_split=5, gradientboostingclassifier__n_estimators=50; total time=   0.3s\n",
      "[CV] END gradientboostingclassifier__max_depth=5, gradientboostingclassifier__min_samples_leaf=2, gradientboostingclassifier__min_samples_split=5, gradientboostingclassifier__n_estimators=50; total time=   0.3s\n",
      "[CV] END gradientboostingclassifier__max_depth=5, gradientboostingclassifier__min_samples_leaf=2, gradientboostingclassifier__min_samples_split=5, gradientboostingclassifier__n_estimators=100; total time=   0.7s\n",
      "[CV] END gradientboostingclassifier__max_depth=5, gradientboostingclassifier__min_samples_leaf=2, gradientboostingclassifier__min_samples_split=5, gradientboostingclassifier__n_estimators=100; total time=   0.7s\n",
      "[CV] END gradientboostingclassifier__max_depth=5, gradientboostingclassifier__min_samples_leaf=2, gradientboostingclassifier__min_samples_split=5, gradientboostingclassifier__n_estimators=100; total time=   0.7s\n",
      "[CV] END gradientboostingclassifier__max_depth=5, gradientboostingclassifier__min_samples_leaf=2, gradientboostingclassifier__min_samples_split=5, gradientboostingclassifier__n_estimators=200; total time=   1.4s\n",
      "[CV] END gradientboostingclassifier__max_depth=5, gradientboostingclassifier__min_samples_leaf=2, gradientboostingclassifier__min_samples_split=5, gradientboostingclassifier__n_estimators=200; total time=   1.3s\n",
      "[CV] END gradientboostingclassifier__max_depth=5, gradientboostingclassifier__min_samples_leaf=2, gradientboostingclassifier__min_samples_split=5, gradientboostingclassifier__n_estimators=200; total time=   1.3s\n",
      "[CV] END gradientboostingclassifier__max_depth=5, gradientboostingclassifier__min_samples_leaf=3, gradientboostingclassifier__min_samples_split=2, gradientboostingclassifier__n_estimators=50; total time=   0.3s\n",
      "[CV] END gradientboostingclassifier__max_depth=5, gradientboostingclassifier__min_samples_leaf=3, gradientboostingclassifier__min_samples_split=2, gradientboostingclassifier__n_estimators=50; total time=   0.3s\n",
      "[CV] END gradientboostingclassifier__max_depth=5, gradientboostingclassifier__min_samples_leaf=3, gradientboostingclassifier__min_samples_split=2, gradientboostingclassifier__n_estimators=50; total time=   0.3s\n",
      "[CV] END gradientboostingclassifier__max_depth=5, gradientboostingclassifier__min_samples_leaf=3, gradientboostingclassifier__min_samples_split=2, gradientboostingclassifier__n_estimators=100; total time=   0.7s\n",
      "[CV] END gradientboostingclassifier__max_depth=5, gradientboostingclassifier__min_samples_leaf=3, gradientboostingclassifier__min_samples_split=2, gradientboostingclassifier__n_estimators=100; total time=   0.7s\n",
      "[CV] END gradientboostingclassifier__max_depth=5, gradientboostingclassifier__min_samples_leaf=3, gradientboostingclassifier__min_samples_split=2, gradientboostingclassifier__n_estimators=100; total time=   0.7s\n",
      "[CV] END gradientboostingclassifier__max_depth=5, gradientboostingclassifier__min_samples_leaf=3, gradientboostingclassifier__min_samples_split=2, gradientboostingclassifier__n_estimators=200; total time=   1.4s\n",
      "[CV] END gradientboostingclassifier__max_depth=5, gradientboostingclassifier__min_samples_leaf=3, gradientboostingclassifier__min_samples_split=2, gradientboostingclassifier__n_estimators=200; total time=   1.4s\n",
      "[CV] END gradientboostingclassifier__max_depth=5, gradientboostingclassifier__min_samples_leaf=3, gradientboostingclassifier__min_samples_split=2, gradientboostingclassifier__n_estimators=200; total time=   1.4s\n",
      "[CV] END gradientboostingclassifier__max_depth=5, gradientboostingclassifier__min_samples_leaf=3, gradientboostingclassifier__min_samples_split=3, gradientboostingclassifier__n_estimators=50; total time=   0.3s\n",
      "[CV] END gradientboostingclassifier__max_depth=5, gradientboostingclassifier__min_samples_leaf=3, gradientboostingclassifier__min_samples_split=3, gradientboostingclassifier__n_estimators=50; total time=   0.3s\n",
      "[CV] END gradientboostingclassifier__max_depth=5, gradientboostingclassifier__min_samples_leaf=3, gradientboostingclassifier__min_samples_split=3, gradientboostingclassifier__n_estimators=50; total time=   0.3s\n",
      "[CV] END gradientboostingclassifier__max_depth=5, gradientboostingclassifier__min_samples_leaf=3, gradientboostingclassifier__min_samples_split=3, gradientboostingclassifier__n_estimators=100; total time=   0.7s\n",
      "[CV] END gradientboostingclassifier__max_depth=5, gradientboostingclassifier__min_samples_leaf=3, gradientboostingclassifier__min_samples_split=3, gradientboostingclassifier__n_estimators=100; total time=   0.7s\n",
      "[CV] END gradientboostingclassifier__max_depth=5, gradientboostingclassifier__min_samples_leaf=3, gradientboostingclassifier__min_samples_split=3, gradientboostingclassifier__n_estimators=100; total time=   0.7s\n",
      "[CV] END gradientboostingclassifier__max_depth=5, gradientboostingclassifier__min_samples_leaf=3, gradientboostingclassifier__min_samples_split=3, gradientboostingclassifier__n_estimators=200; total time=   1.4s\n",
      "[CV] END gradientboostingclassifier__max_depth=5, gradientboostingclassifier__min_samples_leaf=3, gradientboostingclassifier__min_samples_split=3, gradientboostingclassifier__n_estimators=200; total time=   1.3s\n",
      "[CV] END gradientboostingclassifier__max_depth=5, gradientboostingclassifier__min_samples_leaf=3, gradientboostingclassifier__min_samples_split=3, gradientboostingclassifier__n_estimators=200; total time=   1.4s\n",
      "[CV] END gradientboostingclassifier__max_depth=5, gradientboostingclassifier__min_samples_leaf=3, gradientboostingclassifier__min_samples_split=4, gradientboostingclassifier__n_estimators=50; total time=   0.3s\n",
      "[CV] END gradientboostingclassifier__max_depth=5, gradientboostingclassifier__min_samples_leaf=3, gradientboostingclassifier__min_samples_split=4, gradientboostingclassifier__n_estimators=50; total time=   0.3s\n",
      "[CV] END gradientboostingclassifier__max_depth=5, gradientboostingclassifier__min_samples_leaf=3, gradientboostingclassifier__min_samples_split=4, gradientboostingclassifier__n_estimators=50; total time=   0.3s\n",
      "[CV] END gradientboostingclassifier__max_depth=5, gradientboostingclassifier__min_samples_leaf=3, gradientboostingclassifier__min_samples_split=4, gradientboostingclassifier__n_estimators=100; total time=   0.7s\n",
      "[CV] END gradientboostingclassifier__max_depth=5, gradientboostingclassifier__min_samples_leaf=3, gradientboostingclassifier__min_samples_split=4, gradientboostingclassifier__n_estimators=100; total time=   0.7s\n",
      "[CV] END gradientboostingclassifier__max_depth=5, gradientboostingclassifier__min_samples_leaf=3, gradientboostingclassifier__min_samples_split=4, gradientboostingclassifier__n_estimators=100; total time=   0.7s\n"
     ]
    },
    {
     "name": "stdout",
     "output_type": "stream",
     "text": [
      "[CV] END gradientboostingclassifier__max_depth=5, gradientboostingclassifier__min_samples_leaf=3, gradientboostingclassifier__min_samples_split=4, gradientboostingclassifier__n_estimators=200; total time=   1.5s\n",
      "[CV] END gradientboostingclassifier__max_depth=5, gradientboostingclassifier__min_samples_leaf=3, gradientboostingclassifier__min_samples_split=4, gradientboostingclassifier__n_estimators=200; total time=   1.3s\n",
      "[CV] END gradientboostingclassifier__max_depth=5, gradientboostingclassifier__min_samples_leaf=3, gradientboostingclassifier__min_samples_split=4, gradientboostingclassifier__n_estimators=200; total time=   1.5s\n",
      "[CV] END gradientboostingclassifier__max_depth=5, gradientboostingclassifier__min_samples_leaf=3, gradientboostingclassifier__min_samples_split=5, gradientboostingclassifier__n_estimators=50; total time=   0.4s\n",
      "[CV] END gradientboostingclassifier__max_depth=5, gradientboostingclassifier__min_samples_leaf=3, gradientboostingclassifier__min_samples_split=5, gradientboostingclassifier__n_estimators=50; total time=   0.3s\n",
      "[CV] END gradientboostingclassifier__max_depth=5, gradientboostingclassifier__min_samples_leaf=3, gradientboostingclassifier__min_samples_split=5, gradientboostingclassifier__n_estimators=50; total time=   0.3s\n",
      "[CV] END gradientboostingclassifier__max_depth=5, gradientboostingclassifier__min_samples_leaf=3, gradientboostingclassifier__min_samples_split=5, gradientboostingclassifier__n_estimators=100; total time=   0.7s\n",
      "[CV] END gradientboostingclassifier__max_depth=5, gradientboostingclassifier__min_samples_leaf=3, gradientboostingclassifier__min_samples_split=5, gradientboostingclassifier__n_estimators=100; total time=   0.7s\n",
      "[CV] END gradientboostingclassifier__max_depth=5, gradientboostingclassifier__min_samples_leaf=3, gradientboostingclassifier__min_samples_split=5, gradientboostingclassifier__n_estimators=100; total time=   0.8s\n",
      "[CV] END gradientboostingclassifier__max_depth=5, gradientboostingclassifier__min_samples_leaf=3, gradientboostingclassifier__min_samples_split=5, gradientboostingclassifier__n_estimators=200; total time=   1.4s\n",
      "[CV] END gradientboostingclassifier__max_depth=5, gradientboostingclassifier__min_samples_leaf=3, gradientboostingclassifier__min_samples_split=5, gradientboostingclassifier__n_estimators=200; total time=   1.4s\n",
      "[CV] END gradientboostingclassifier__max_depth=5, gradientboostingclassifier__min_samples_leaf=3, gradientboostingclassifier__min_samples_split=5, gradientboostingclassifier__n_estimators=200; total time=   1.4s\n",
      "[CV] END gradientboostingclassifier__max_depth=6, gradientboostingclassifier__min_samples_leaf=1, gradientboostingclassifier__min_samples_split=2, gradientboostingclassifier__n_estimators=50; total time=   0.5s\n",
      "[CV] END gradientboostingclassifier__max_depth=6, gradientboostingclassifier__min_samples_leaf=1, gradientboostingclassifier__min_samples_split=2, gradientboostingclassifier__n_estimators=50; total time=   0.4s\n",
      "[CV] END gradientboostingclassifier__max_depth=6, gradientboostingclassifier__min_samples_leaf=1, gradientboostingclassifier__min_samples_split=2, gradientboostingclassifier__n_estimators=50; total time=   0.4s\n",
      "[CV] END gradientboostingclassifier__max_depth=6, gradientboostingclassifier__min_samples_leaf=1, gradientboostingclassifier__min_samples_split=2, gradientboostingclassifier__n_estimators=100; total time=   0.9s\n",
      "[CV] END gradientboostingclassifier__max_depth=6, gradientboostingclassifier__min_samples_leaf=1, gradientboostingclassifier__min_samples_split=2, gradientboostingclassifier__n_estimators=100; total time=   0.8s\n",
      "[CV] END gradientboostingclassifier__max_depth=6, gradientboostingclassifier__min_samples_leaf=1, gradientboostingclassifier__min_samples_split=2, gradientboostingclassifier__n_estimators=100; total time=   0.8s\n",
      "[CV] END gradientboostingclassifier__max_depth=6, gradientboostingclassifier__min_samples_leaf=1, gradientboostingclassifier__min_samples_split=2, gradientboostingclassifier__n_estimators=200; total time=   1.8s\n",
      "[CV] END gradientboostingclassifier__max_depth=6, gradientboostingclassifier__min_samples_leaf=1, gradientboostingclassifier__min_samples_split=2, gradientboostingclassifier__n_estimators=200; total time=   1.7s\n",
      "[CV] END gradientboostingclassifier__max_depth=6, gradientboostingclassifier__min_samples_leaf=1, gradientboostingclassifier__min_samples_split=2, gradientboostingclassifier__n_estimators=200; total time=   1.6s\n",
      "[CV] END gradientboostingclassifier__max_depth=6, gradientboostingclassifier__min_samples_leaf=1, gradientboostingclassifier__min_samples_split=3, gradientboostingclassifier__n_estimators=50; total time=   0.4s\n",
      "[CV] END gradientboostingclassifier__max_depth=6, gradientboostingclassifier__min_samples_leaf=1, gradientboostingclassifier__min_samples_split=3, gradientboostingclassifier__n_estimators=50; total time=   0.4s\n",
      "[CV] END gradientboostingclassifier__max_depth=6, gradientboostingclassifier__min_samples_leaf=1, gradientboostingclassifier__min_samples_split=3, gradientboostingclassifier__n_estimators=50; total time=   0.4s\n",
      "[CV] END gradientboostingclassifier__max_depth=6, gradientboostingclassifier__min_samples_leaf=1, gradientboostingclassifier__min_samples_split=3, gradientboostingclassifier__n_estimators=100; total time=   0.8s\n",
      "[CV] END gradientboostingclassifier__max_depth=6, gradientboostingclassifier__min_samples_leaf=1, gradientboostingclassifier__min_samples_split=3, gradientboostingclassifier__n_estimators=100; total time=   0.8s\n",
      "[CV] END gradientboostingclassifier__max_depth=6, gradientboostingclassifier__min_samples_leaf=1, gradientboostingclassifier__min_samples_split=3, gradientboostingclassifier__n_estimators=100; total time=   0.8s\n",
      "[CV] END gradientboostingclassifier__max_depth=6, gradientboostingclassifier__min_samples_leaf=1, gradientboostingclassifier__min_samples_split=3, gradientboostingclassifier__n_estimators=200; total time=   1.7s\n",
      "[CV] END gradientboostingclassifier__max_depth=6, gradientboostingclassifier__min_samples_leaf=1, gradientboostingclassifier__min_samples_split=3, gradientboostingclassifier__n_estimators=200; total time=   1.6s\n",
      "[CV] END gradientboostingclassifier__max_depth=6, gradientboostingclassifier__min_samples_leaf=1, gradientboostingclassifier__min_samples_split=3, gradientboostingclassifier__n_estimators=200; total time=   1.7s\n",
      "[CV] END gradientboostingclassifier__max_depth=6, gradientboostingclassifier__min_samples_leaf=1, gradientboostingclassifier__min_samples_split=4, gradientboostingclassifier__n_estimators=50; total time=   0.4s\n",
      "[CV] END gradientboostingclassifier__max_depth=6, gradientboostingclassifier__min_samples_leaf=1, gradientboostingclassifier__min_samples_split=4, gradientboostingclassifier__n_estimators=50; total time=   0.4s\n",
      "[CV] END gradientboostingclassifier__max_depth=6, gradientboostingclassifier__min_samples_leaf=1, gradientboostingclassifier__min_samples_split=4, gradientboostingclassifier__n_estimators=50; total time=   0.4s\n",
      "[CV] END gradientboostingclassifier__max_depth=6, gradientboostingclassifier__min_samples_leaf=1, gradientboostingclassifier__min_samples_split=4, gradientboostingclassifier__n_estimators=100; total time=   0.8s\n",
      "[CV] END gradientboostingclassifier__max_depth=6, gradientboostingclassifier__min_samples_leaf=1, gradientboostingclassifier__min_samples_split=4, gradientboostingclassifier__n_estimators=100; total time=   0.8s\n",
      "[CV] END gradientboostingclassifier__max_depth=6, gradientboostingclassifier__min_samples_leaf=1, gradientboostingclassifier__min_samples_split=4, gradientboostingclassifier__n_estimators=100; total time=   0.8s\n",
      "[CV] END gradientboostingclassifier__max_depth=6, gradientboostingclassifier__min_samples_leaf=1, gradientboostingclassifier__min_samples_split=4, gradientboostingclassifier__n_estimators=200; total time=   1.7s\n",
      "[CV] END gradientboostingclassifier__max_depth=6, gradientboostingclassifier__min_samples_leaf=1, gradientboostingclassifier__min_samples_split=4, gradientboostingclassifier__n_estimators=200; total time=   1.6s\n",
      "[CV] END gradientboostingclassifier__max_depth=6, gradientboostingclassifier__min_samples_leaf=1, gradientboostingclassifier__min_samples_split=4, gradientboostingclassifier__n_estimators=200; total time=   1.7s\n"
     ]
    },
    {
     "name": "stdout",
     "output_type": "stream",
     "text": [
      "[CV] END gradientboostingclassifier__max_depth=6, gradientboostingclassifier__min_samples_leaf=1, gradientboostingclassifier__min_samples_split=5, gradientboostingclassifier__n_estimators=50; total time=   0.4s\n",
      "[CV] END gradientboostingclassifier__max_depth=6, gradientboostingclassifier__min_samples_leaf=1, gradientboostingclassifier__min_samples_split=5, gradientboostingclassifier__n_estimators=50; total time=   0.4s\n",
      "[CV] END gradientboostingclassifier__max_depth=6, gradientboostingclassifier__min_samples_leaf=1, gradientboostingclassifier__min_samples_split=5, gradientboostingclassifier__n_estimators=50; total time=   0.4s\n",
      "[CV] END gradientboostingclassifier__max_depth=6, gradientboostingclassifier__min_samples_leaf=1, gradientboostingclassifier__min_samples_split=5, gradientboostingclassifier__n_estimators=100; total time=   0.8s\n",
      "[CV] END gradientboostingclassifier__max_depth=6, gradientboostingclassifier__min_samples_leaf=1, gradientboostingclassifier__min_samples_split=5, gradientboostingclassifier__n_estimators=100; total time=   0.8s\n",
      "[CV] END gradientboostingclassifier__max_depth=6, gradientboostingclassifier__min_samples_leaf=1, gradientboostingclassifier__min_samples_split=5, gradientboostingclassifier__n_estimators=100; total time=   0.8s\n",
      "[CV] END gradientboostingclassifier__max_depth=6, gradientboostingclassifier__min_samples_leaf=1, gradientboostingclassifier__min_samples_split=5, gradientboostingclassifier__n_estimators=200; total time=   1.7s\n",
      "[CV] END gradientboostingclassifier__max_depth=6, gradientboostingclassifier__min_samples_leaf=1, gradientboostingclassifier__min_samples_split=5, gradientboostingclassifier__n_estimators=200; total time=   1.6s\n",
      "[CV] END gradientboostingclassifier__max_depth=6, gradientboostingclassifier__min_samples_leaf=1, gradientboostingclassifier__min_samples_split=5, gradientboostingclassifier__n_estimators=200; total time=   1.6s\n",
      "[CV] END gradientboostingclassifier__max_depth=6, gradientboostingclassifier__min_samples_leaf=2, gradientboostingclassifier__min_samples_split=2, gradientboostingclassifier__n_estimators=50; total time=   0.4s\n",
      "[CV] END gradientboostingclassifier__max_depth=6, gradientboostingclassifier__min_samples_leaf=2, gradientboostingclassifier__min_samples_split=2, gradientboostingclassifier__n_estimators=50; total time=   0.4s\n",
      "[CV] END gradientboostingclassifier__max_depth=6, gradientboostingclassifier__min_samples_leaf=2, gradientboostingclassifier__min_samples_split=2, gradientboostingclassifier__n_estimators=50; total time=   0.4s\n",
      "[CV] END gradientboostingclassifier__max_depth=6, gradientboostingclassifier__min_samples_leaf=2, gradientboostingclassifier__min_samples_split=2, gradientboostingclassifier__n_estimators=100; total time=   1.2s\n",
      "[CV] END gradientboostingclassifier__max_depth=6, gradientboostingclassifier__min_samples_leaf=2, gradientboostingclassifier__min_samples_split=2, gradientboostingclassifier__n_estimators=100; total time=   0.9s\n",
      "[CV] END gradientboostingclassifier__max_depth=6, gradientboostingclassifier__min_samples_leaf=2, gradientboostingclassifier__min_samples_split=2, gradientboostingclassifier__n_estimators=100; total time=   0.8s\n",
      "[CV] END gradientboostingclassifier__max_depth=6, gradientboostingclassifier__min_samples_leaf=2, gradientboostingclassifier__min_samples_split=2, gradientboostingclassifier__n_estimators=200; total time=   1.7s\n",
      "[CV] END gradientboostingclassifier__max_depth=6, gradientboostingclassifier__min_samples_leaf=2, gradientboostingclassifier__min_samples_split=2, gradientboostingclassifier__n_estimators=200; total time=   1.8s\n",
      "[CV] END gradientboostingclassifier__max_depth=6, gradientboostingclassifier__min_samples_leaf=2, gradientboostingclassifier__min_samples_split=2, gradientboostingclassifier__n_estimators=200; total time=   1.7s\n",
      "[CV] END gradientboostingclassifier__max_depth=6, gradientboostingclassifier__min_samples_leaf=2, gradientboostingclassifier__min_samples_split=3, gradientboostingclassifier__n_estimators=50; total time=   0.4s\n",
      "[CV] END gradientboostingclassifier__max_depth=6, gradientboostingclassifier__min_samples_leaf=2, gradientboostingclassifier__min_samples_split=3, gradientboostingclassifier__n_estimators=50; total time=   0.4s\n",
      "[CV] END gradientboostingclassifier__max_depth=6, gradientboostingclassifier__min_samples_leaf=2, gradientboostingclassifier__min_samples_split=3, gradientboostingclassifier__n_estimators=50; total time=   0.5s\n",
      "[CV] END gradientboostingclassifier__max_depth=6, gradientboostingclassifier__min_samples_leaf=2, gradientboostingclassifier__min_samples_split=3, gradientboostingclassifier__n_estimators=100; total time=   0.9s\n",
      "[CV] END gradientboostingclassifier__max_depth=6, gradientboostingclassifier__min_samples_leaf=2, gradientboostingclassifier__min_samples_split=3, gradientboostingclassifier__n_estimators=100; total time=   0.8s\n",
      "[CV] END gradientboostingclassifier__max_depth=6, gradientboostingclassifier__min_samples_leaf=2, gradientboostingclassifier__min_samples_split=3, gradientboostingclassifier__n_estimators=100; total time=   0.8s\n",
      "[CV] END gradientboostingclassifier__max_depth=6, gradientboostingclassifier__min_samples_leaf=2, gradientboostingclassifier__min_samples_split=3, gradientboostingclassifier__n_estimators=200; total time=   1.8s\n",
      "[CV] END gradientboostingclassifier__max_depth=6, gradientboostingclassifier__min_samples_leaf=2, gradientboostingclassifier__min_samples_split=3, gradientboostingclassifier__n_estimators=200; total time=   1.7s\n",
      "[CV] END gradientboostingclassifier__max_depth=6, gradientboostingclassifier__min_samples_leaf=2, gradientboostingclassifier__min_samples_split=3, gradientboostingclassifier__n_estimators=200; total time=   1.6s\n",
      "[CV] END gradientboostingclassifier__max_depth=6, gradientboostingclassifier__min_samples_leaf=2, gradientboostingclassifier__min_samples_split=4, gradientboostingclassifier__n_estimators=50; total time=   0.4s\n",
      "[CV] END gradientboostingclassifier__max_depth=6, gradientboostingclassifier__min_samples_leaf=2, gradientboostingclassifier__min_samples_split=4, gradientboostingclassifier__n_estimators=50; total time=   0.5s\n",
      "[CV] END gradientboostingclassifier__max_depth=6, gradientboostingclassifier__min_samples_leaf=2, gradientboostingclassifier__min_samples_split=4, gradientboostingclassifier__n_estimators=50; total time=   0.7s\n",
      "[CV] END gradientboostingclassifier__max_depth=6, gradientboostingclassifier__min_samples_leaf=2, gradientboostingclassifier__min_samples_split=4, gradientboostingclassifier__n_estimators=100; total time=   1.4s\n",
      "[CV] END gradientboostingclassifier__max_depth=6, gradientboostingclassifier__min_samples_leaf=2, gradientboostingclassifier__min_samples_split=4, gradientboostingclassifier__n_estimators=100; total time=   1.3s\n",
      "[CV] END gradientboostingclassifier__max_depth=6, gradientboostingclassifier__min_samples_leaf=2, gradientboostingclassifier__min_samples_split=4, gradientboostingclassifier__n_estimators=100; total time=   1.0s\n",
      "[CV] END gradientboostingclassifier__max_depth=6, gradientboostingclassifier__min_samples_leaf=2, gradientboostingclassifier__min_samples_split=4, gradientboostingclassifier__n_estimators=200; total time=   1.8s\n",
      "[CV] END gradientboostingclassifier__max_depth=6, gradientboostingclassifier__min_samples_leaf=2, gradientboostingclassifier__min_samples_split=4, gradientboostingclassifier__n_estimators=200; total time=   1.8s\n",
      "[CV] END gradientboostingclassifier__max_depth=6, gradientboostingclassifier__min_samples_leaf=2, gradientboostingclassifier__min_samples_split=4, gradientboostingclassifier__n_estimators=200; total time=   1.9s\n",
      "[CV] END gradientboostingclassifier__max_depth=6, gradientboostingclassifier__min_samples_leaf=2, gradientboostingclassifier__min_samples_split=5, gradientboostingclassifier__n_estimators=50; total time=   0.5s\n",
      "[CV] END gradientboostingclassifier__max_depth=6, gradientboostingclassifier__min_samples_leaf=2, gradientboostingclassifier__min_samples_split=5, gradientboostingclassifier__n_estimators=50; total time=   0.5s\n",
      "[CV] END gradientboostingclassifier__max_depth=6, gradientboostingclassifier__min_samples_leaf=2, gradientboostingclassifier__min_samples_split=5, gradientboostingclassifier__n_estimators=50; total time=   0.4s\n"
     ]
    },
    {
     "name": "stdout",
     "output_type": "stream",
     "text": [
      "[CV] END gradientboostingclassifier__max_depth=6, gradientboostingclassifier__min_samples_leaf=2, gradientboostingclassifier__min_samples_split=5, gradientboostingclassifier__n_estimators=100; total time=   0.9s\n",
      "[CV] END gradientboostingclassifier__max_depth=6, gradientboostingclassifier__min_samples_leaf=2, gradientboostingclassifier__min_samples_split=5, gradientboostingclassifier__n_estimators=100; total time=   0.8s\n",
      "[CV] END gradientboostingclassifier__max_depth=6, gradientboostingclassifier__min_samples_leaf=2, gradientboostingclassifier__min_samples_split=5, gradientboostingclassifier__n_estimators=100; total time=   0.8s\n",
      "[CV] END gradientboostingclassifier__max_depth=6, gradientboostingclassifier__min_samples_leaf=2, gradientboostingclassifier__min_samples_split=5, gradientboostingclassifier__n_estimators=200; total time=   1.7s\n",
      "[CV] END gradientboostingclassifier__max_depth=6, gradientboostingclassifier__min_samples_leaf=2, gradientboostingclassifier__min_samples_split=5, gradientboostingclassifier__n_estimators=200; total time=   1.6s\n",
      "[CV] END gradientboostingclassifier__max_depth=6, gradientboostingclassifier__min_samples_leaf=2, gradientboostingclassifier__min_samples_split=5, gradientboostingclassifier__n_estimators=200; total time=   1.8s\n",
      "[CV] END gradientboostingclassifier__max_depth=6, gradientboostingclassifier__min_samples_leaf=3, gradientboostingclassifier__min_samples_split=2, gradientboostingclassifier__n_estimators=50; total time=   0.4s\n",
      "[CV] END gradientboostingclassifier__max_depth=6, gradientboostingclassifier__min_samples_leaf=3, gradientboostingclassifier__min_samples_split=2, gradientboostingclassifier__n_estimators=50; total time=   0.4s\n",
      "[CV] END gradientboostingclassifier__max_depth=6, gradientboostingclassifier__min_samples_leaf=3, gradientboostingclassifier__min_samples_split=2, gradientboostingclassifier__n_estimators=50; total time=   0.4s\n",
      "[CV] END gradientboostingclassifier__max_depth=6, gradientboostingclassifier__min_samples_leaf=3, gradientboostingclassifier__min_samples_split=2, gradientboostingclassifier__n_estimators=100; total time=   0.9s\n",
      "[CV] END gradientboostingclassifier__max_depth=6, gradientboostingclassifier__min_samples_leaf=3, gradientboostingclassifier__min_samples_split=2, gradientboostingclassifier__n_estimators=100; total time=   0.9s\n",
      "[CV] END gradientboostingclassifier__max_depth=6, gradientboostingclassifier__min_samples_leaf=3, gradientboostingclassifier__min_samples_split=2, gradientboostingclassifier__n_estimators=100; total time=   0.8s\n",
      "[CV] END gradientboostingclassifier__max_depth=6, gradientboostingclassifier__min_samples_leaf=3, gradientboostingclassifier__min_samples_split=2, gradientboostingclassifier__n_estimators=200; total time=   1.7s\n",
      "[CV] END gradientboostingclassifier__max_depth=6, gradientboostingclassifier__min_samples_leaf=3, gradientboostingclassifier__min_samples_split=2, gradientboostingclassifier__n_estimators=200; total time=   1.7s\n",
      "[CV] END gradientboostingclassifier__max_depth=6, gradientboostingclassifier__min_samples_leaf=3, gradientboostingclassifier__min_samples_split=2, gradientboostingclassifier__n_estimators=200; total time=   1.7s\n",
      "[CV] END gradientboostingclassifier__max_depth=6, gradientboostingclassifier__min_samples_leaf=3, gradientboostingclassifier__min_samples_split=3, gradientboostingclassifier__n_estimators=50; total time=   0.4s\n",
      "[CV] END gradientboostingclassifier__max_depth=6, gradientboostingclassifier__min_samples_leaf=3, gradientboostingclassifier__min_samples_split=3, gradientboostingclassifier__n_estimators=50; total time=   0.4s\n",
      "[CV] END gradientboostingclassifier__max_depth=6, gradientboostingclassifier__min_samples_leaf=3, gradientboostingclassifier__min_samples_split=3, gradientboostingclassifier__n_estimators=50; total time=   0.4s\n",
      "[CV] END gradientboostingclassifier__max_depth=6, gradientboostingclassifier__min_samples_leaf=3, gradientboostingclassifier__min_samples_split=3, gradientboostingclassifier__n_estimators=100; total time=   0.8s\n",
      "[CV] END gradientboostingclassifier__max_depth=6, gradientboostingclassifier__min_samples_leaf=3, gradientboostingclassifier__min_samples_split=3, gradientboostingclassifier__n_estimators=100; total time=   0.8s\n",
      "[CV] END gradientboostingclassifier__max_depth=6, gradientboostingclassifier__min_samples_leaf=3, gradientboostingclassifier__min_samples_split=3, gradientboostingclassifier__n_estimators=100; total time=   0.8s\n",
      "[CV] END gradientboostingclassifier__max_depth=6, gradientboostingclassifier__min_samples_leaf=3, gradientboostingclassifier__min_samples_split=3, gradientboostingclassifier__n_estimators=200; total time=   1.7s\n",
      "[CV] END gradientboostingclassifier__max_depth=6, gradientboostingclassifier__min_samples_leaf=3, gradientboostingclassifier__min_samples_split=3, gradientboostingclassifier__n_estimators=200; total time=   1.6s\n",
      "[CV] END gradientboostingclassifier__max_depth=6, gradientboostingclassifier__min_samples_leaf=3, gradientboostingclassifier__min_samples_split=3, gradientboostingclassifier__n_estimators=200; total time=   1.6s\n",
      "[CV] END gradientboostingclassifier__max_depth=6, gradientboostingclassifier__min_samples_leaf=3, gradientboostingclassifier__min_samples_split=4, gradientboostingclassifier__n_estimators=50; total time=   0.4s\n",
      "[CV] END gradientboostingclassifier__max_depth=6, gradientboostingclassifier__min_samples_leaf=3, gradientboostingclassifier__min_samples_split=4, gradientboostingclassifier__n_estimators=50; total time=   0.4s\n",
      "[CV] END gradientboostingclassifier__max_depth=6, gradientboostingclassifier__min_samples_leaf=3, gradientboostingclassifier__min_samples_split=4, gradientboostingclassifier__n_estimators=50; total time=   0.4s\n",
      "[CV] END gradientboostingclassifier__max_depth=6, gradientboostingclassifier__min_samples_leaf=3, gradientboostingclassifier__min_samples_split=4, gradientboostingclassifier__n_estimators=100; total time=   0.8s\n",
      "[CV] END gradientboostingclassifier__max_depth=6, gradientboostingclassifier__min_samples_leaf=3, gradientboostingclassifier__min_samples_split=4, gradientboostingclassifier__n_estimators=100; total time=   0.8s\n",
      "[CV] END gradientboostingclassifier__max_depth=6, gradientboostingclassifier__min_samples_leaf=3, gradientboostingclassifier__min_samples_split=4, gradientboostingclassifier__n_estimators=100; total time=   0.8s\n",
      "[CV] END gradientboostingclassifier__max_depth=6, gradientboostingclassifier__min_samples_leaf=3, gradientboostingclassifier__min_samples_split=4, gradientboostingclassifier__n_estimators=200; total time=   1.7s\n",
      "[CV] END gradientboostingclassifier__max_depth=6, gradientboostingclassifier__min_samples_leaf=3, gradientboostingclassifier__min_samples_split=4, gradientboostingclassifier__n_estimators=200; total time=   1.8s\n",
      "[CV] END gradientboostingclassifier__max_depth=6, gradientboostingclassifier__min_samples_leaf=3, gradientboostingclassifier__min_samples_split=4, gradientboostingclassifier__n_estimators=200; total time=   1.6s\n",
      "[CV] END gradientboostingclassifier__max_depth=6, gradientboostingclassifier__min_samples_leaf=3, gradientboostingclassifier__min_samples_split=5, gradientboostingclassifier__n_estimators=50; total time=   0.5s\n",
      "[CV] END gradientboostingclassifier__max_depth=6, gradientboostingclassifier__min_samples_leaf=3, gradientboostingclassifier__min_samples_split=5, gradientboostingclassifier__n_estimators=50; total time=   0.4s\n",
      "[CV] END gradientboostingclassifier__max_depth=6, gradientboostingclassifier__min_samples_leaf=3, gradientboostingclassifier__min_samples_split=5, gradientboostingclassifier__n_estimators=50; total time=   0.4s\n",
      "[CV] END gradientboostingclassifier__max_depth=6, gradientboostingclassifier__min_samples_leaf=3, gradientboostingclassifier__min_samples_split=5, gradientboostingclassifier__n_estimators=100; total time=   0.9s\n",
      "[CV] END gradientboostingclassifier__max_depth=6, gradientboostingclassifier__min_samples_leaf=3, gradientboostingclassifier__min_samples_split=5, gradientboostingclassifier__n_estimators=100; total time=   0.9s\n",
      "[CV] END gradientboostingclassifier__max_depth=6, gradientboostingclassifier__min_samples_leaf=3, gradientboostingclassifier__min_samples_split=5, gradientboostingclassifier__n_estimators=100; total time=   0.9s\n"
     ]
    },
    {
     "name": "stdout",
     "output_type": "stream",
     "text": [
      "[CV] END gradientboostingclassifier__max_depth=6, gradientboostingclassifier__min_samples_leaf=3, gradientboostingclassifier__min_samples_split=5, gradientboostingclassifier__n_estimators=200; total time=   1.9s\n",
      "[CV] END gradientboostingclassifier__max_depth=6, gradientboostingclassifier__min_samples_leaf=3, gradientboostingclassifier__min_samples_split=5, gradientboostingclassifier__n_estimators=200; total time=   1.7s\n",
      "[CV] END gradientboostingclassifier__max_depth=6, gradientboostingclassifier__min_samples_leaf=3, gradientboostingclassifier__min_samples_split=5, gradientboostingclassifier__n_estimators=200; total time=   1.9s\n"
     ]
    },
    {
     "data": {
      "text/plain": [
       "GridSearchCV(cv=3,\n",
       "             estimator=Pipeline(steps=[('smote', SMOTE()),\n",
       "                                       ('gradientboostingclassifier',\n",
       "                                        GradientBoostingClassifier())]),\n",
       "             param_grid={'gradientboostingclassifier__max_depth': [3, 4, 5, 6],\n",
       "                         'gradientboostingclassifier__min_samples_leaf': [1, 2,\n",
       "                                                                          3],\n",
       "                         'gradientboostingclassifier__min_samples_split': [2, 3,\n",
       "                                                                           4,\n",
       "                                                                           5],\n",
       "                         'gradientboostingclassifier__n_estimators': [50, 100,\n",
       "                                                                      200]},\n",
       "             scoring=make_scorer(recall_score), verbose=2)"
      ]
     },
     "execution_count": 194,
     "metadata": {},
     "output_type": "execute_result"
    }
   ],
   "source": [
    "#Final GridSearch fit.  WARNING - takes time to run.\n",
    "grid_param = { 'gradientboostingclassifier__max_depth': [3,4,5,6], \n",
    "              'gradientboostingclassifier__min_samples_split': [2,3,4,5], \n",
    "              'gradientboostingclassifier__min_samples_leaf': [1,2,3],\n",
    "              'gradientboostingclassifier__n_estimators': [50,100,200]\n",
    "              } \n",
    "grid_search = GridSearchCV(pipeline, grid_param, cv=3, scoring=make_scorer(recall_score), verbose=2)\n",
    "grid_search.fit(X_train_resampled, y_train_resampled)"
   ]
  },
  {
   "cell_type": "code",
   "execution_count": 195,
   "metadata": {},
   "outputs": [
    {
     "data": {
      "text/plain": [
       "{'gradientboostingclassifier__max_depth': 6,\n",
       " 'gradientboostingclassifier__min_samples_leaf': 3,\n",
       " 'gradientboostingclassifier__min_samples_split': 2,\n",
       " 'gradientboostingclassifier__n_estimators': 100}"
      ]
     },
     "execution_count": 195,
     "metadata": {},
     "output_type": "execute_result"
    }
   ],
   "source": [
    "grid_search.best_params_"
   ]
  },
  {
   "cell_type": "code",
   "execution_count": 196,
   "metadata": {},
   "outputs": [],
   "source": [
    "best_estimator = grid_search.best_estimator_"
   ]
  },
  {
   "cell_type": "code",
   "execution_count": 197,
   "metadata": {},
   "outputs": [],
   "source": [
    "best_estimator_train_preds = best_estimator.predict(X_train_resampled)\n",
    "best_estimator_test_preds = best_estimator.predict(X_test)"
   ]
  },
  {
   "cell_type": "code",
   "execution_count": 198,
   "metadata": {},
   "outputs": [
    {
     "name": "stdout",
     "output_type": "stream",
     "text": [
      "Precision Score: 0.9976280834914611\n",
      "Recall Score: 0.9822512844465203\n",
      "Accuracy Score: 0.9899579635684259\n",
      "F1 Score: 0.9898799717580609\n"
     ]
    }
   ],
   "source": [
    "print_metrics(y_train_resampled, best_estimator_train_preds)"
   ]
  },
  {
   "cell_type": "code",
   "execution_count": 199,
   "metadata": {},
   "outputs": [
    {
     "name": "stdout",
     "output_type": "stream",
     "text": [
      "Precision Score: 0.8482142857142857\n",
      "Recall Score: 0.76\n",
      "Accuracy Score: 0.9436450839328537\n",
      "F1 Score: 0.8016877637130801\n"
     ]
    }
   ],
   "source": [
    "print_metrics(y_test, best_estimator_test_preds)"
   ]
  },
  {
   "cell_type": "code",
   "execution_count": 202,
   "metadata": {},
   "outputs": [
    {
     "data": {
      "text/plain": [
       "<sklearn.metrics._plot.confusion_matrix.ConfusionMatrixDisplay at 0x7fa80d0fe2b0>"
      ]
     },
     "execution_count": 202,
     "metadata": {},
     "output_type": "execute_result"
    },
    {
     "data": {
      "image/png": "[encoded data removed]",
      "text/plain": [
       "<Figure size 432x288 with 2 Axes>"
      ]
     },
     "metadata": {
      "needs_background": "light"
     },
     "output_type": "display_data"
    }
   ],
   "source": [
    "plot_confusion_matrix(best_estimator, X_train_resampled, y_train_resampled, cmap=plt.cm.Blues, values_format='.3g')"
   ]
  },
  {
   "cell_type": "code",
   "execution_count": 203,
   "metadata": {},
   "outputs": [
    {
     "data": {
      "text/plain": [
       "<sklearn.metrics._plot.confusion_matrix.ConfusionMatrixDisplay at 0x7fa80e03d390>"
      ]
     },
     "execution_count": 203,
     "metadata": {},
     "output_type": "execute_result"
    },
    {
     "data": {
      "image/png": "[encoded data removed]",
      "text/plain": [
       "<Figure size 432x288 with 2 Axes>"
      ]
     },
     "metadata": {
      "needs_background": "light"
     },
     "output_type": "display_data"
    }
   ],
   "source": [
    "plot_confusion_matrix(best_estimator, X_test, y_test, cmap=plt.cm.Blues, values_format='.3g')"
   ]
  },
  {
   "cell_type": "markdown",
   "metadata": {},
   "source": [
    "An accurate model, albeit slightly overfit however still performs comparably well with our Random Forest model, and the two could both be used depending on the business issue we are dealing with."
   ]
  },
  {
   "cell_type": "code",
   "execution_count": 223,
   "metadata": {},
   "outputs": [
    {
     "data": {
      "image/png": "[encoded data removed]",
      "text/plain": [
       "<Figure size 576x576 with 1 Axes>"
      ]
     },
     "metadata": {
      "needs_background": "light"
     },
     "output_type": "display_data"
    }
   ],
   "source": [
    "#Feature importances function and plot\n",
    "def plot_feature_importances(model):\n",
    "    n_features = X_train_resampled.shape[1]\n",
    "    plt.figure(figsize=(8,8))\n",
    "    plt.barh(range(n_features), model.feature_importances_, align='center') \n",
    "    plt.yticks(np.arange(n_features), X_train.columns.values) \n",
    "    plt.xlabel('Feature importance')\n",
    "    plt.ylabel('Feature')\n",
    "\n",
    "plot_feature_importances(gbt_clf)"
   ]
  },
  {
   "cell_type": "markdown",
   "metadata": {},
   "source": [
    "Looking at the model's most important features, what can be done to improve these numbers to lower churn?\n",
    "\n",
    "- Account length (keeping customers happy for the long term)\n",
    "- Total day charge/calls/minutes - Looking at possible price reductions on day rates"
   ]
  }
 ],
 "metadata": {
  "kernelspec": {
   "display_name": "Python 3",
   "language": "python",
   "name": "python3"
  },
  "language_info": {
   "codemirror_mode": {
    "name": "ipython",
    "version": 3
   },
   "file_extension": ".py",
   "mimetype": "text/x-python",
   "name": "python",
   "nbconvert_exporter": "python",
   "pygments_lexer": "ipython3",
   "version": "3.6.9"
  }
 },
 "nbformat": 4,
 "nbformat_minor": 2
}
